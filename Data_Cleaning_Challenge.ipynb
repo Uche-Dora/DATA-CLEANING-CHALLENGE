{
 "cells": [
  {
   "cell_type": "markdown",
   "id": "0b89e622",
   "metadata": {},
   "source": [
    "# INTRODUCTION\n",
    "This dataset contains information on players involved in FIFA 2021 mens championship.\n",
    "\n",
    "Here is a brief documentation for each column name in the given dataset:\n",
    "\n",
    "\n",
    "photoUrl: The URL of the player's photo.\n",
    "\n",
    "\n",
    "LongName: The full name of the player.\n",
    "\n",
    "\n",
    "playerUrl: The URL of the player's page on sofifa.com.\n",
    "\n",
    "\n",
    "Nationality: The nationality of the player.\n",
    "\n",
    "\n",
    "Positions: The positions the player can play.\n",
    "\n",
    "\n",
    "Name: The short name of the player.\n",
    "\n",
    "\n",
    "Age: The age of the player.\n",
    "\n",
    "\n",
    "OVA: The overall rating of the player in FIFA 21.\n",
    "\n",
    "\n",
    "POT: The potential rating of the player in FIFA 21.\n",
    "\n",
    "\n",
    "Team & Contract: The team the player is playing for in FIFA 21, along with their contract details.\n",
    "\n",
    "\n",
    "ID: The unique identifier for the player.\n",
    "\n",
    "\n",
    "Height: The height of the player in feet and inches.\n",
    "\n",
    "\n",
    "Weight: The weight of the player in pounds.\n",
    "\n",
    "\n",
    "foot: The preferred foot of the player.\n",
    "\n",
    "\n",
    "BOV: The best overall rating the player has achieved in their career.\n",
    "\n",
    "\n",
    "BP: The best position the player has played in their career.\n",
    "\n",
    "\n",
    "Joined: The date the player joined their current team in FIFA 21.\n",
    "\n",
    "\n",
    "Loan Date End: The date the player's loan contract ends.\n",
    "\n",
    "\n",
    "Value: The market value of the player in FIFA 21 in Euro.\n",
    "\n",
    "\n",
    "Wage: The weekly wage of the player in FIFA 21 in Euro.\n",
    "\n",
    "\n",
    "Release Clause: The release clause value of the player in FIFA 21 in Euro.\n",
    "\n",
    "\n",
    "Attacking: The attacking attributes of the player.\n",
    "\n",
    "\n",
    "Crossing: The crossing attribute of the player.\n",
    "\n",
    "\n",
    "Finishing: The finishing attribute of the player.\n",
    "\n",
    "\n",
    "Heading Accuracy: The heading accuracy attribute of the player.\n",
    "\n",
    "\n",
    "Short Passing: The short passing attribute of the player.\n",
    "\n",
    "\n",
    "Volleys: The volleys attribute of the player.\n",
    "\n",
    "\n",
    "Skill: The skill attributes of the player.\n",
    "\n",
    "\n",
    "Dribbling: The dribbling attribute of the player.\n",
    "\n",
    "\n",
    "Curve: The curve attribute of the player.\n",
    "\n",
    "\n",
    "FK Accuracy: The free kick accuracy attribute of the player.\n",
    "\n",
    "\n",
    "Long Passing: The long passing attribute of the player.\n",
    "\n",
    "\n",
    "Ball Control: The ball control attribute of the player.\n",
    "\n",
    "\n",
    "Movement: The movement attributes of the player.\n",
    "\n",
    "\n",
    "Acceleration: The acceleration attribute of the player.\n",
    "\n",
    "\n",
    "Sprint Speed: The sprint speed attribute of the player.\n",
    "\n",
    "\n",
    "Agility: The agility attribute of the player.\n",
    "\n",
    "\n",
    "Reactions: The reactions attribute of the player.\n",
    "\n",
    "\n",
    "Balance: The balance attribute of the player.\n",
    "\n",
    "\n",
    "Power: The power attributes of the player.\n",
    "\n",
    "\n",
    "Shot Power: The shot power attribute of the player.\n",
    "\n",
    "\n",
    "Jumping: The jumping attribute of the player.\n",
    "\n",
    "\n",
    "Stamina: The stamina attribute of the player.\n",
    "\n",
    "\n",
    "Strength: The strength attribute of the player.\n",
    "\n",
    "\n",
    "Long Shots: The long shots attribute of the player.\n",
    "\n",
    "\n",
    "Mentality: The mentality attributes of the player.\n",
    "\n",
    "\n",
    "Aggression: The aggression attribute of the player.\n",
    "\n",
    "\n",
    "Interceptions: The interceptions attribute of the player.\n",
    "\n",
    "\n",
    "Positioning: The positioning attribute of the player.\n",
    "\n",
    "\n",
    "Vision: The vision attribute of the player.\n",
    "\n",
    "\n",
    "Penalties: The penalties attribute of the player.\n",
    "\n",
    "\n",
    "Composure: The composure attribute of the player.\n",
    "\n",
    "\n",
    "Defending: The defending attributes of the player.\n",
    "\n",
    "\n",
    "Marking: The marking attribute of the player.\n",
    "\n",
    "\n",
    "Standing Tackle: The standing tackle attribute of the player.\n",
    "\n",
    "\n",
    "Sliding Tackle: The sliding tackle attribute of the player.\n",
    "\n",
    "\n",
    "Goalkeeping: The goalkeeping attributes of the player.\n",
    "\n",
    "\n",
    "GK Diving: The goalkeeper diving attribute of the player.\n",
    "\n",
    "\n",
    "GK Handling: The goalkeeper handling attribute of the player.\n",
    "\n",
    "\n",
    "GK Kicking: The goalkeeper kicking attribute of the player.\n",
    "\n",
    "\n",
    "GK Positioning: The goalkeeper positioning attribute of the player.\n",
    "\n",
    "\n",
    "GK Reflexes: This refers to the goalkeeper's ability to react and make saves quickly.\n",
    "\n",
    "\n",
    "Total Stats: This refers to the overall rating of the player based on their performance in all areas of the game.\n",
    "\n",
    "\n",
    "Base Stats: This refers to the player's rating in the six main areas of the game: Pace, Shooting, Passing, Dribbling, Defending, and Physicality.\n",
    "\n",
    "\n",
    "W/F: This refers to the player's weaker foot ability.\n",
    "\n",
    "\n",
    "SM: This refers to the player's skill moves ability\n",
    "\n",
    "\n",
    "A/W: This refers to the player's attacking work rate. It measures how frequently the player participates in attacking actions, such as making runs or positioning themselves in the opponent's half.\n",
    "\n",
    "\n",
    "D/W: This refers to the player's defensive work rate. It measures how frequently the player participates in defensive actions, such as tracking back or making tackles.\n",
    "\n",
    "\n",
    "IR: This refers to the player's injury resistance. It measures the player's ability to avoid injuries and how quickly they recover from them.\n",
    "\n",
    "\n",
    "PAC: This refers to the player's pace or speed attribute. It measures how quickly the player can move with and without the ball.\n",
    "\n",
    "\n",
    "SHO: This refers to the player's shooting ability. It measures the player's accuracy and power when shooting the ball.\n",
    "\n",
    "\n",
    "PAS: This refers to the player's passing ability. It measures the player's accuracy and range when passing the ball.\n",
    "\n",
    "DRI: This refers to the player's dribbling ability. It measures the player's agility, balance, and ball control when dribbling the ball.\n",
    "\n",
    "\n",
    "DEF: This refers to the player's defensive ability. It measures the player's ability to tackle, intercept, and defend against opposing players. \n",
    "\n",
    "\n",
    "PHY: This refers to the player's physicality or strength. It measures the player's ability to win physical battles and maintain possession of the ball. \n",
    "\n",
    "\n",
    "Hits: This refers to the number of times the player's profile has been viewed on the website.\n"
   ]
  },
  {
   "cell_type": "markdown",
   "id": "a63691d6",
   "metadata": {},
   "source": [
    "# DATA GATHERING"
   ]
  },
  {
   "cell_type": "code",
   "execution_count": 1,
   "id": "cf58707c",
   "metadata": {},
   "outputs": [],
   "source": [
    "#import necessary libraries\n",
    "import numpy as np\n",
    "import pandas as pd"
   ]
  },
  {
   "cell_type": "code",
   "execution_count": 2,
   "id": "7cd0af5a",
   "metadata": {},
   "outputs": [],
   "source": [
    "# load dataset\n",
    "file = r\"C:\\Users\\USER\\Documents\\Data projects\\datasets\\fifa21 raw data v2.csv\"\n",
    "pd.set_option('display.max_columns', False) # this helps to view all columns\n",
    "fifa = pd.read_csv(file, sep = ',', low_memory = False)"
   ]
  },
  {
   "cell_type": "code",
   "execution_count": 3,
   "id": "3c3bb59b",
   "metadata": {},
   "outputs": [
    {
     "data": {
      "text/html": [
       "<div>\n",
       "<style scoped>\n",
       "    .dataframe tbody tr th:only-of-type {\n",
       "        vertical-align: middle;\n",
       "    }\n",
       "\n",
       "    .dataframe tbody tr th {\n",
       "        vertical-align: top;\n",
       "    }\n",
       "\n",
       "    .dataframe thead th {\n",
       "        text-align: right;\n",
       "    }\n",
       "</style>\n",
       "<table border=\"1\" class=\"dataframe\">\n",
       "  <thead>\n",
       "    <tr style=\"text-align: right;\">\n",
       "      <th></th>\n",
       "      <th>ID</th>\n",
       "      <th>Name</th>\n",
       "      <th>LongName</th>\n",
       "      <th>photoUrl</th>\n",
       "      <th>playerUrl</th>\n",
       "      <th>Nationality</th>\n",
       "      <th>Age</th>\n",
       "      <th>↓OVA</th>\n",
       "      <th>POT</th>\n",
       "      <th>Club</th>\n",
       "      <th>Contract</th>\n",
       "      <th>Positions</th>\n",
       "      <th>Height</th>\n",
       "      <th>Weight</th>\n",
       "      <th>Preferred Foot</th>\n",
       "      <th>BOV</th>\n",
       "      <th>Best Position</th>\n",
       "      <th>Joined</th>\n",
       "      <th>Loan Date End</th>\n",
       "      <th>Value</th>\n",
       "      <th>Wage</th>\n",
       "      <th>Release Clause</th>\n",
       "      <th>Attacking</th>\n",
       "      <th>Crossing</th>\n",
       "      <th>Finishing</th>\n",
       "      <th>Heading Accuracy</th>\n",
       "      <th>Short Passing</th>\n",
       "      <th>Volleys</th>\n",
       "      <th>Skill</th>\n",
       "      <th>Dribbling</th>\n",
       "      <th>Curve</th>\n",
       "      <th>FK Accuracy</th>\n",
       "      <th>Long Passing</th>\n",
       "      <th>Ball Control</th>\n",
       "      <th>Movement</th>\n",
       "      <th>Acceleration</th>\n",
       "      <th>Sprint Speed</th>\n",
       "      <th>Agility</th>\n",
       "      <th>Reactions</th>\n",
       "      <th>Balance</th>\n",
       "      <th>Power</th>\n",
       "      <th>Shot Power</th>\n",
       "      <th>Jumping</th>\n",
       "      <th>Stamina</th>\n",
       "      <th>Strength</th>\n",
       "      <th>Long Shots</th>\n",
       "      <th>Mentality</th>\n",
       "      <th>Aggression</th>\n",
       "      <th>Interceptions</th>\n",
       "      <th>Positioning</th>\n",
       "      <th>Vision</th>\n",
       "      <th>Penalties</th>\n",
       "      <th>Composure</th>\n",
       "      <th>Defending</th>\n",
       "      <th>Marking</th>\n",
       "      <th>Standing Tackle</th>\n",
       "      <th>Sliding Tackle</th>\n",
       "      <th>Goalkeeping</th>\n",
       "      <th>GK Diving</th>\n",
       "      <th>GK Handling</th>\n",
       "      <th>GK Kicking</th>\n",
       "      <th>GK Positioning</th>\n",
       "      <th>GK Reflexes</th>\n",
       "      <th>Total Stats</th>\n",
       "      <th>Base Stats</th>\n",
       "      <th>W/F</th>\n",
       "      <th>SM</th>\n",
       "      <th>A/W</th>\n",
       "      <th>D/W</th>\n",
       "      <th>IR</th>\n",
       "      <th>PAC</th>\n",
       "      <th>SHO</th>\n",
       "      <th>PAS</th>\n",
       "      <th>DRI</th>\n",
       "      <th>DEF</th>\n",
       "      <th>PHY</th>\n",
       "      <th>Hits</th>\n",
       "    </tr>\n",
       "  </thead>\n",
       "  <tbody>\n",
       "    <tr>\n",
       "      <th>0</th>\n",
       "      <td>158023</td>\n",
       "      <td>L. Messi</td>\n",
       "      <td>Lionel Messi</td>\n",
       "      <td>https://cdn.sofifa.com/players/158/023/21_60.png</td>\n",
       "      <td>http://sofifa.com/player/158023/lionel-messi/2...</td>\n",
       "      <td>Argentina</td>\n",
       "      <td>33</td>\n",
       "      <td>93</td>\n",
       "      <td>93</td>\n",
       "      <td>\\n\\n\\n\\nFC Barcelona</td>\n",
       "      <td>2004 ~ 2021</td>\n",
       "      <td>RW, ST, CF</td>\n",
       "      <td>170cm</td>\n",
       "      <td>72kg</td>\n",
       "      <td>Left</td>\n",
       "      <td>93</td>\n",
       "      <td>RW</td>\n",
       "      <td>Jul 1, 2004</td>\n",
       "      <td>NaN</td>\n",
       "      <td>€103.5M</td>\n",
       "      <td>€560K</td>\n",
       "      <td>€138.4M</td>\n",
       "      <td>429</td>\n",
       "      <td>85</td>\n",
       "      <td>95</td>\n",
       "      <td>70</td>\n",
       "      <td>91</td>\n",
       "      <td>88</td>\n",
       "      <td>470</td>\n",
       "      <td>96</td>\n",
       "      <td>93</td>\n",
       "      <td>94</td>\n",
       "      <td>91</td>\n",
       "      <td>96</td>\n",
       "      <td>451</td>\n",
       "      <td>91</td>\n",
       "      <td>80</td>\n",
       "      <td>91</td>\n",
       "      <td>94</td>\n",
       "      <td>95</td>\n",
       "      <td>389</td>\n",
       "      <td>86</td>\n",
       "      <td>68</td>\n",
       "      <td>72</td>\n",
       "      <td>69</td>\n",
       "      <td>94</td>\n",
       "      <td>347</td>\n",
       "      <td>44</td>\n",
       "      <td>40</td>\n",
       "      <td>93</td>\n",
       "      <td>95</td>\n",
       "      <td>75</td>\n",
       "      <td>96</td>\n",
       "      <td>91</td>\n",
       "      <td>32</td>\n",
       "      <td>35</td>\n",
       "      <td>24</td>\n",
       "      <td>54</td>\n",
       "      <td>6</td>\n",
       "      <td>11</td>\n",
       "      <td>15</td>\n",
       "      <td>14</td>\n",
       "      <td>8</td>\n",
       "      <td>2231</td>\n",
       "      <td>466</td>\n",
       "      <td>4 ★</td>\n",
       "      <td>4★</td>\n",
       "      <td>Medium</td>\n",
       "      <td>Low</td>\n",
       "      <td>5 ★</td>\n",
       "      <td>85</td>\n",
       "      <td>92</td>\n",
       "      <td>91</td>\n",
       "      <td>95</td>\n",
       "      <td>38</td>\n",
       "      <td>65</td>\n",
       "      <td>771</td>\n",
       "    </tr>\n",
       "    <tr>\n",
       "      <th>1</th>\n",
       "      <td>20801</td>\n",
       "      <td>Cristiano Ronaldo</td>\n",
       "      <td>C. Ronaldo dos Santos Aveiro</td>\n",
       "      <td>https://cdn.sofifa.com/players/020/801/21_60.png</td>\n",
       "      <td>http://sofifa.com/player/20801/c-ronaldo-dos-s...</td>\n",
       "      <td>Portugal</td>\n",
       "      <td>35</td>\n",
       "      <td>92</td>\n",
       "      <td>92</td>\n",
       "      <td>\\n\\n\\n\\nJuventus</td>\n",
       "      <td>2018 ~ 2022</td>\n",
       "      <td>ST, LW</td>\n",
       "      <td>187cm</td>\n",
       "      <td>83kg</td>\n",
       "      <td>Right</td>\n",
       "      <td>92</td>\n",
       "      <td>ST</td>\n",
       "      <td>Jul 10, 2018</td>\n",
       "      <td>NaN</td>\n",
       "      <td>€63M</td>\n",
       "      <td>€220K</td>\n",
       "      <td>€75.9M</td>\n",
       "      <td>437</td>\n",
       "      <td>84</td>\n",
       "      <td>95</td>\n",
       "      <td>90</td>\n",
       "      <td>82</td>\n",
       "      <td>86</td>\n",
       "      <td>414</td>\n",
       "      <td>88</td>\n",
       "      <td>81</td>\n",
       "      <td>76</td>\n",
       "      <td>77</td>\n",
       "      <td>92</td>\n",
       "      <td>431</td>\n",
       "      <td>87</td>\n",
       "      <td>91</td>\n",
       "      <td>87</td>\n",
       "      <td>95</td>\n",
       "      <td>71</td>\n",
       "      <td>444</td>\n",
       "      <td>94</td>\n",
       "      <td>95</td>\n",
       "      <td>84</td>\n",
       "      <td>78</td>\n",
       "      <td>93</td>\n",
       "      <td>353</td>\n",
       "      <td>63</td>\n",
       "      <td>29</td>\n",
       "      <td>95</td>\n",
       "      <td>82</td>\n",
       "      <td>84</td>\n",
       "      <td>95</td>\n",
       "      <td>84</td>\n",
       "      <td>28</td>\n",
       "      <td>32</td>\n",
       "      <td>24</td>\n",
       "      <td>58</td>\n",
       "      <td>7</td>\n",
       "      <td>11</td>\n",
       "      <td>15</td>\n",
       "      <td>14</td>\n",
       "      <td>11</td>\n",
       "      <td>2221</td>\n",
       "      <td>464</td>\n",
       "      <td>4 ★</td>\n",
       "      <td>5★</td>\n",
       "      <td>High</td>\n",
       "      <td>Low</td>\n",
       "      <td>5 ★</td>\n",
       "      <td>89</td>\n",
       "      <td>93</td>\n",
       "      <td>81</td>\n",
       "      <td>89</td>\n",
       "      <td>35</td>\n",
       "      <td>77</td>\n",
       "      <td>562</td>\n",
       "    </tr>\n",
       "    <tr>\n",
       "      <th>2</th>\n",
       "      <td>200389</td>\n",
       "      <td>J. Oblak</td>\n",
       "      <td>Jan Oblak</td>\n",
       "      <td>https://cdn.sofifa.com/players/200/389/21_60.png</td>\n",
       "      <td>http://sofifa.com/player/200389/jan-oblak/210006/</td>\n",
       "      <td>Slovenia</td>\n",
       "      <td>27</td>\n",
       "      <td>91</td>\n",
       "      <td>93</td>\n",
       "      <td>\\n\\n\\n\\nAtlético Madrid</td>\n",
       "      <td>2014 ~ 2023</td>\n",
       "      <td>GK</td>\n",
       "      <td>188cm</td>\n",
       "      <td>87kg</td>\n",
       "      <td>Right</td>\n",
       "      <td>91</td>\n",
       "      <td>GK</td>\n",
       "      <td>Jul 16, 2014</td>\n",
       "      <td>NaN</td>\n",
       "      <td>€120M</td>\n",
       "      <td>€125K</td>\n",
       "      <td>€159.4M</td>\n",
       "      <td>95</td>\n",
       "      <td>13</td>\n",
       "      <td>11</td>\n",
       "      <td>15</td>\n",
       "      <td>43</td>\n",
       "      <td>13</td>\n",
       "      <td>109</td>\n",
       "      <td>12</td>\n",
       "      <td>13</td>\n",
       "      <td>14</td>\n",
       "      <td>40</td>\n",
       "      <td>30</td>\n",
       "      <td>307</td>\n",
       "      <td>43</td>\n",
       "      <td>60</td>\n",
       "      <td>67</td>\n",
       "      <td>88</td>\n",
       "      <td>49</td>\n",
       "      <td>268</td>\n",
       "      <td>59</td>\n",
       "      <td>78</td>\n",
       "      <td>41</td>\n",
       "      <td>78</td>\n",
       "      <td>12</td>\n",
       "      <td>140</td>\n",
       "      <td>34</td>\n",
       "      <td>19</td>\n",
       "      <td>11</td>\n",
       "      <td>65</td>\n",
       "      <td>11</td>\n",
       "      <td>68</td>\n",
       "      <td>57</td>\n",
       "      <td>27</td>\n",
       "      <td>12</td>\n",
       "      <td>18</td>\n",
       "      <td>437</td>\n",
       "      <td>87</td>\n",
       "      <td>92</td>\n",
       "      <td>78</td>\n",
       "      <td>90</td>\n",
       "      <td>90</td>\n",
       "      <td>1413</td>\n",
       "      <td>489</td>\n",
       "      <td>3 ★</td>\n",
       "      <td>1★</td>\n",
       "      <td>Medium</td>\n",
       "      <td>Medium</td>\n",
       "      <td>3 ★</td>\n",
       "      <td>87</td>\n",
       "      <td>92</td>\n",
       "      <td>78</td>\n",
       "      <td>90</td>\n",
       "      <td>52</td>\n",
       "      <td>90</td>\n",
       "      <td>150</td>\n",
       "    </tr>\n",
       "    <tr>\n",
       "      <th>3</th>\n",
       "      <td>192985</td>\n",
       "      <td>K. De Bruyne</td>\n",
       "      <td>Kevin De Bruyne</td>\n",
       "      <td>https://cdn.sofifa.com/players/192/985/21_60.png</td>\n",
       "      <td>http://sofifa.com/player/192985/kevin-de-bruyn...</td>\n",
       "      <td>Belgium</td>\n",
       "      <td>29</td>\n",
       "      <td>91</td>\n",
       "      <td>91</td>\n",
       "      <td>\\n\\n\\n\\nManchester City</td>\n",
       "      <td>2015 ~ 2023</td>\n",
       "      <td>CAM, CM</td>\n",
       "      <td>181cm</td>\n",
       "      <td>70kg</td>\n",
       "      <td>Right</td>\n",
       "      <td>91</td>\n",
       "      <td>CAM</td>\n",
       "      <td>Aug 30, 2015</td>\n",
       "      <td>NaN</td>\n",
       "      <td>€129M</td>\n",
       "      <td>€370K</td>\n",
       "      <td>€161M</td>\n",
       "      <td>407</td>\n",
       "      <td>94</td>\n",
       "      <td>82</td>\n",
       "      <td>55</td>\n",
       "      <td>94</td>\n",
       "      <td>82</td>\n",
       "      <td>441</td>\n",
       "      <td>88</td>\n",
       "      <td>85</td>\n",
       "      <td>83</td>\n",
       "      <td>93</td>\n",
       "      <td>92</td>\n",
       "      <td>398</td>\n",
       "      <td>77</td>\n",
       "      <td>76</td>\n",
       "      <td>78</td>\n",
       "      <td>91</td>\n",
       "      <td>76</td>\n",
       "      <td>408</td>\n",
       "      <td>91</td>\n",
       "      <td>63</td>\n",
       "      <td>89</td>\n",
       "      <td>74</td>\n",
       "      <td>91</td>\n",
       "      <td>408</td>\n",
       "      <td>76</td>\n",
       "      <td>66</td>\n",
       "      <td>88</td>\n",
       "      <td>94</td>\n",
       "      <td>84</td>\n",
       "      <td>91</td>\n",
       "      <td>186</td>\n",
       "      <td>68</td>\n",
       "      <td>65</td>\n",
       "      <td>53</td>\n",
       "      <td>56</td>\n",
       "      <td>15</td>\n",
       "      <td>13</td>\n",
       "      <td>5</td>\n",
       "      <td>10</td>\n",
       "      <td>13</td>\n",
       "      <td>2304</td>\n",
       "      <td>485</td>\n",
       "      <td>5 ★</td>\n",
       "      <td>4★</td>\n",
       "      <td>High</td>\n",
       "      <td>High</td>\n",
       "      <td>4 ★</td>\n",
       "      <td>76</td>\n",
       "      <td>86</td>\n",
       "      <td>93</td>\n",
       "      <td>88</td>\n",
       "      <td>64</td>\n",
       "      <td>78</td>\n",
       "      <td>207</td>\n",
       "    </tr>\n",
       "    <tr>\n",
       "      <th>4</th>\n",
       "      <td>190871</td>\n",
       "      <td>Neymar Jr</td>\n",
       "      <td>Neymar da Silva Santos Jr.</td>\n",
       "      <td>https://cdn.sofifa.com/players/190/871/21_60.png</td>\n",
       "      <td>http://sofifa.com/player/190871/neymar-da-silv...</td>\n",
       "      <td>Brazil</td>\n",
       "      <td>28</td>\n",
       "      <td>91</td>\n",
       "      <td>91</td>\n",
       "      <td>\\n\\n\\n\\nParis Saint-Germain</td>\n",
       "      <td>2017 ~ 2022</td>\n",
       "      <td>LW, CAM</td>\n",
       "      <td>175cm</td>\n",
       "      <td>68kg</td>\n",
       "      <td>Right</td>\n",
       "      <td>91</td>\n",
       "      <td>LW</td>\n",
       "      <td>Aug 3, 2017</td>\n",
       "      <td>NaN</td>\n",
       "      <td>€132M</td>\n",
       "      <td>€270K</td>\n",
       "      <td>€166.5M</td>\n",
       "      <td>408</td>\n",
       "      <td>85</td>\n",
       "      <td>87</td>\n",
       "      <td>62</td>\n",
       "      <td>87</td>\n",
       "      <td>87</td>\n",
       "      <td>448</td>\n",
       "      <td>95</td>\n",
       "      <td>88</td>\n",
       "      <td>89</td>\n",
       "      <td>81</td>\n",
       "      <td>95</td>\n",
       "      <td>453</td>\n",
       "      <td>94</td>\n",
       "      <td>89</td>\n",
       "      <td>96</td>\n",
       "      <td>91</td>\n",
       "      <td>83</td>\n",
       "      <td>357</td>\n",
       "      <td>80</td>\n",
       "      <td>62</td>\n",
       "      <td>81</td>\n",
       "      <td>50</td>\n",
       "      <td>84</td>\n",
       "      <td>356</td>\n",
       "      <td>51</td>\n",
       "      <td>36</td>\n",
       "      <td>87</td>\n",
       "      <td>90</td>\n",
       "      <td>92</td>\n",
       "      <td>93</td>\n",
       "      <td>94</td>\n",
       "      <td>35</td>\n",
       "      <td>30</td>\n",
       "      <td>29</td>\n",
       "      <td>59</td>\n",
       "      <td>9</td>\n",
       "      <td>9</td>\n",
       "      <td>15</td>\n",
       "      <td>15</td>\n",
       "      <td>11</td>\n",
       "      <td>2175</td>\n",
       "      <td>451</td>\n",
       "      <td>5 ★</td>\n",
       "      <td>5★</td>\n",
       "      <td>High</td>\n",
       "      <td>Medium</td>\n",
       "      <td>5 ★</td>\n",
       "      <td>91</td>\n",
       "      <td>85</td>\n",
       "      <td>86</td>\n",
       "      <td>94</td>\n",
       "      <td>36</td>\n",
       "      <td>59</td>\n",
       "      <td>595</td>\n",
       "    </tr>\n",
       "  </tbody>\n",
       "</table>\n",
       "</div>"
      ],
      "text/plain": [
       "       ID               Name                      LongName  ... DEF PHY Hits\n",
       "0  158023           L. Messi                  Lionel Messi  ...  38  65  771\n",
       "1   20801  Cristiano Ronaldo  C. Ronaldo dos Santos Aveiro  ...  35  77  562\n",
       "2  200389           J. Oblak                     Jan Oblak  ...  52  90  150\n",
       "3  192985       K. De Bruyne               Kevin De Bruyne  ...  64  78  207\n",
       "4  190871          Neymar Jr    Neymar da Silva Santos Jr.  ...  36  59  595\n",
       "\n",
       "[5 rows x 77 columns]"
      ]
     },
     "execution_count": 3,
     "metadata": {},
     "output_type": "execute_result"
    }
   ],
   "source": [
    "#view dataset\n",
    "fifa.head()"
   ]
  },
  {
   "cell_type": "code",
   "execution_count": 4,
   "id": "d1e41cc7",
   "metadata": {},
   "outputs": [
    {
     "data": {
      "text/plain": [
       "(18979, 77)"
      ]
     },
     "execution_count": 4,
     "metadata": {},
     "output_type": "execute_result"
    }
   ],
   "source": [
    "# determine the exact number of rows and columns in the dataset\n",
    "fifa.shape"
   ]
  },
  {
   "cell_type": "markdown",
   "id": "bfc7c015",
   "metadata": {},
   "source": [
    "# Data Exploration / Cleaning / Transformation\n",
    "\n",
    "I will be handling this simulteanously for each column I pick since this is a very large dataset.\n",
    "\n",
    "I carried out visual inspection of the dataset on MS-Excel to determine what columns needed cleaning"
   ]
  },
  {
   "cell_type": "code",
   "execution_count": 5,
   "id": "649bf0b3",
   "metadata": {},
   "outputs": [],
   "source": [
    "# Make a copy of the original dataset\n",
    "\n",
    "fifa21 = fifa.copy()"
   ]
  },
  {
   "cell_type": "code",
   "execution_count": 6,
   "id": "c6eb4c36",
   "metadata": {},
   "outputs": [
    {
     "data": {
      "text/plain": [
       "ID                      0\n",
       "Name                    0\n",
       "LongName                0\n",
       "photoUrl                0\n",
       "playerUrl               0\n",
       "Nationality             0\n",
       "Age                     0\n",
       "↓OVA                    0\n",
       "POT                     0\n",
       "Club                    0\n",
       "Contract                0\n",
       "Positions               0\n",
       "Height                  0\n",
       "Weight                  0\n",
       "Preferred Foot          0\n",
       "BOV                     0\n",
       "Best Position           0\n",
       "Joined                  0\n",
       "Loan Date End       17966\n",
       "Value                   0\n",
       "Wage                    0\n",
       "Release Clause          0\n",
       "Attacking               0\n",
       "Crossing                0\n",
       "Finishing               0\n",
       "Heading Accuracy        0\n",
       "Short Passing           0\n",
       "Volleys                 0\n",
       "Skill                   0\n",
       "Dribbling               0\n",
       "Curve                   0\n",
       "FK Accuracy             0\n",
       "Long Passing            0\n",
       "Ball Control            0\n",
       "Movement                0\n",
       "Acceleration            0\n",
       "Sprint Speed            0\n",
       "Agility                 0\n",
       "Reactions               0\n",
       "Balance                 0\n",
       "Power                   0\n",
       "dtype: int64"
      ]
     },
     "execution_count": 6,
     "metadata": {},
     "output_type": "execute_result"
    }
   ],
   "source": [
    "# check for missing Values\n",
    "fifa21.iloc[: , :41].isnull().sum() #view first 40 columns "
   ]
  },
  {
   "cell_type": "code",
   "execution_count": 7,
   "id": "fbfa3b6e",
   "metadata": {},
   "outputs": [
    {
     "data": {
      "text/plain": [
       "Shot Power            0\n",
       "Jumping               0\n",
       "Stamina               0\n",
       "Strength              0\n",
       "Long Shots            0\n",
       "Mentality             0\n",
       "Aggression            0\n",
       "Interceptions         0\n",
       "Positioning           0\n",
       "Vision                0\n",
       "Penalties             0\n",
       "Composure             0\n",
       "Defending             0\n",
       "Marking               0\n",
       "Standing Tackle       0\n",
       "Sliding Tackle        0\n",
       "Goalkeeping           0\n",
       "GK Diving             0\n",
       "GK Handling           0\n",
       "GK Kicking            0\n",
       "GK Positioning        0\n",
       "GK Reflexes           0\n",
       "Total Stats           0\n",
       "Base Stats            0\n",
       "W/F                   0\n",
       "SM                    0\n",
       "A/W                   0\n",
       "D/W                   0\n",
       "IR                    0\n",
       "PAC                   0\n",
       "SHO                   0\n",
       "PAS                   0\n",
       "DRI                   0\n",
       "DEF                   0\n",
       "PHY                   0\n",
       "Hits               2595\n",
       "dtype: int64"
      ]
     },
     "execution_count": 7,
     "metadata": {},
     "output_type": "execute_result"
    }
   ],
   "source": [
    "fifa21.iloc[ : ,41:78].isnull().sum() # view column 41 to 77"
   ]
  },
  {
   "cell_type": "markdown",
   "id": "2d681c57",
   "metadata": {},
   "source": [
    "**Problems identified**\n",
    "- Loan Date End and Hits contain missing values\n",
    "- Naming style isnt consistent throughout the column"
   ]
  },
  {
   "cell_type": "code",
   "execution_count": 8,
   "id": "a07a20ca",
   "metadata": {},
   "outputs": [
    {
     "data": {
      "text/plain": [
       "Index(['ID', 'Name', 'Long_Name', 'Photo_Url', 'Player_Url', 'Nationality',\n",
       "       'Age', 'OVA', 'POT', 'Club', 'Contract', 'Positions', 'Height',\n",
       "       'Weight', 'Preferred_Foot', 'BOV', 'Best_Position', 'Joined',\n",
       "       'Loan_Date_End', 'Value', 'Wage', 'Release_Clause', 'Attacking',\n",
       "       'Crossing', 'Finishing', 'Heading_Accuracy', 'Short_Passing', 'Volleys',\n",
       "       'Skill', 'Dribbling', 'Curve', 'FK_Accuracy', 'Long_Passing',\n",
       "       'Ball_Control', 'Movement', 'Acceleration', 'Sprint_Speed', 'Agility',\n",
       "       'Reactions', 'Balance', 'Power', 'Shot_Power', 'Jumping', 'Stamina',\n",
       "       'Strength', 'Long_Shots', 'Mentality', 'Aggression', 'Interceptions',\n",
       "       'Positioning', 'Vision', 'Penalties', 'Composure', 'Defending',\n",
       "       'Marking', 'Standing_Tackle', 'Sliding_Tackle', 'Goal_Keeping',\n",
       "       'GK_Diving', 'GK_Handling', 'GK_Kicking', 'GK_Positioning',\n",
       "       'GK_Reflexes', 'Total_Stats', 'Base_Stats', 'W/F', 'SM', 'A/W', 'D/W',\n",
       "       'IR', 'PAC', 'SHO', 'PAS', 'DRI', 'DEF', 'PHY', 'Hits'],\n",
       "      dtype='object')"
      ]
     },
     "execution_count": 8,
     "metadata": {},
     "output_type": "execute_result"
    }
   ],
   "source": [
    "# Deal first with inconsistent naming style\n",
    "fifa21= fifa21.rename(columns = lambda x: x.replace(' ', '_').strip()) #replaces all space with _ and clears any further white space\n",
    "fifa21.rename(columns = {'↓OVA':'OVA', 'LongName':'Long_Name', 'photoUrl':'Photo_Url', 'playerUrl':'Player_Url', 'Goalkeeping':'Goal_Keeping' }, inplace = True)\n",
    "fifa21.columns"
   ]
  },
  {
   "cell_type": "markdown",
   "id": "9dfe2726",
   "metadata": {},
   "source": [
    "*Note*\n",
    "\n",
    "\n",
    "Loan_Date_End is the date the player's loan contract ends while Hits refers to the number of times the player's profile has been viewed on the website. \n",
    "\n",
    "filling the missing value with 0 therefore will be the correct step to take"
   ]
  },
  {
   "cell_type": "code",
   "execution_count": 9,
   "id": "782eb6ce",
   "metadata": {},
   "outputs": [],
   "source": [
    "# fill nan with 0\n",
    "fifa21 = fifa21.fillna(0)"
   ]
  },
  {
   "cell_type": "code",
   "execution_count": 10,
   "id": "dbb8bca8",
   "metadata": {},
   "outputs": [
    {
     "name": "stdout",
     "output_type": "stream",
     "text": [
      "0\n",
      "0\n"
     ]
    }
   ],
   "source": [
    "# Test\n",
    "print(fifa21['Loan_Date_End'].isnull().sum())\n",
    "print(fifa21['Hits'].isnull().sum())"
   ]
  },
  {
   "cell_type": "markdown",
   "id": "ffa74761",
   "metadata": {},
   "source": [
    "###  Loan_Date_End columns"
   ]
  },
  {
   "cell_type": "code",
   "execution_count": 11,
   "id": "69204b6f",
   "metadata": {},
   "outputs": [
    {
     "data": {
      "text/plain": [
       "array([0, 'Jun 30, 2021', 'Dec 31, 2020', 'Jan 30, 2021', 'Jun 30, 2022',\n",
       "       'May 31, 2021', 'Jul 5, 2021', 'Dec 31, 2021', 'Jul 1, 2021',\n",
       "       'Jan 1, 2021', 'Aug 31, 2021', 'Jan 31, 2021', 'Dec 30, 2021',\n",
       "       'Jun 23, 2021', 'Jan 3, 2021', 'Nov 27, 2021', 'Jan 17, 2021',\n",
       "       'Jun 30, 2023', 'Jul 31, 2021', 'Nov 22, 2020', 'May 31, 2022',\n",
       "       'Dec 30, 2020', 'Jan 4, 2021', 'Nov 30, 2020', 'Aug 1, 2021'],\n",
       "      dtype=object)"
      ]
     },
     "execution_count": 11,
     "metadata": {},
     "output_type": "execute_result"
    }
   ],
   "source": [
    "#identify unique entries\n",
    "fifa21['Loan_Date_End'].unique()"
   ]
  },
  {
   "cell_type": "markdown",
   "id": "2bfc67fb",
   "metadata": {},
   "source": [
    "**Observation**\n",
    "- Same formatting."
   ]
  },
  {
   "cell_type": "markdown",
   "id": "00f2281f",
   "metadata": {},
   "source": [
    "##  Hits column"
   ]
  },
  {
   "cell_type": "code",
   "execution_count": 12,
   "id": "d8a506ae",
   "metadata": {
    "scrolled": true
   },
   "outputs": [
    {
     "data": {
      "text/plain": [
       "array(['771', '562', '150', '207', '595', '248', '246', '120', '1.6K',\n",
       "       '130', '321', '189', '175', '96', '118', '216', '212', '154',\n",
       "       '205', '202', '339', '408', '103', '332', '86', '173', '161',\n",
       "       '396', '1.1K', '433', '242', '206', '177', '1.5K', '198', '459',\n",
       "       '117', '119', '209', '84', '187', '165', '203', '65', '336', '126',\n",
       "       '313', '124', '145', '538', '182', '101', '45', '377', '99', '194',\n",
       "       '403', '414', '593', '374', '245', '3.2K', '266', '299', '309',\n",
       "       '215', '265', '211', '112', '337', '70', '159', '688', '116', '63',\n",
       "       '144', '123', '71', '224', '113', '168', '61', '89', '137', '278',\n",
       "       '75', '148', '176', '197', '264', '214', '247', '402', '440',\n",
       "       '1.7K', '2.3K', '171', '320', '657', '87', '259', '200', '255',\n",
       "       '253', '196', '60', '97', '85', '169', '256', '132', '239', '166',\n",
       "       '121', '109', '32', '46', '122', '48', '527', '199', '282', '51',\n",
       "       '1.9K', '642', '155', '323', '288', '497', '509', '79', '49',\n",
       "       '270', '511', '80', '128', '115', '156', '204', '143', '140',\n",
       "       '152', '220', '134', '225', '94', '74', '135', '142', '50', '77',\n",
       "       '40', '107', '193', '179', '34', '64', '453', '57', '81', '28',\n",
       "       '78', '133', '43', '425', '88', '42', '36', '233', '376', '210',\n",
       "       '444', '100', '263', '98', '29', '160', '39', '257', '6', '310',\n",
       "       '138', '62', '293', '285', '362', '66', '69', '58', '21', '20',\n",
       "       '131', '38', '406', '68', '108', '110', '93', '512', '443', '306',\n",
       "       '352', '422', '585', '346', '178', '841', '76', '394', '72', '172',\n",
       "       '44', '407', '230', '367', '295', '157', '243', '56', '111', '326',\n",
       "       '679', '18', '92', '59', '25', '184', '53', '12', '90', '55', '73',\n",
       "       '11', '566', '180', '83', '262', '17', '26', '31', '280', '359',\n",
       "       '213', '297', '387', '480', '381', '677', '486', '8', '244', '129',\n",
       "       '388', '275', '319', '2K', '52', '91', '421', '153', '27', '41',\n",
       "       '222', '35', '102', '23', '30', '33', '146', '13', '19', '14',\n",
       "       '106', '276', '568', '353', '47', '478', '249', '254', '369',\n",
       "       '219', '565', '237', '227', '434', '375', '162', '605', '654', '3',\n",
       "       '7', '9', '104', '114', '186', '446', '756', '22', '139', '500',\n",
       "       '67', '147', '149', '16', '82', '54', '37', '15', '1.3K', '3K',\n",
       "       '952', '5', '749', '541', '330', '393', '517', '770', '409', '170',\n",
       "       '125', '283', '342', '363', '580', '105', '217', '24', '141', '10',\n",
       "       '427', '158', '426', '4', '666', '181', '324', '979', '1.4K',\n",
       "       '302', '751', '298', '411', '944', '2', '947', '292', '349', '621',\n",
       "       '1', '2.8K', '338', '287', '261', '218', '1.8K', '240', '279',\n",
       "       '229', '188', '315', '664', '613', '190', '706', '127', '462',\n",
       "       '386', '695', '491', '167', '281', '250', '307', '95', '231',\n",
       "       '174', '680', '633', '221', '348', '602', '183', '653', '195',\n",
       "       '164', '151', '258', '8.4K', '343', '419', '655', '136', '399',\n",
       "       '531', '357', '228', '385', '312', '340', '238', '487', '355',\n",
       "       '499', '4.3K', '296', '515', '943', '1.2K', '903', '335', '191',\n",
       "       '594', '267', '617', '516', '504', '331', '652', '410', '550',\n",
       "       '473', '442', '344', '208', '1K', '2.5K', '273', '485', '826',\n",
       "       '192', '405', '941', '477', '644', '303', '417', '6K', 0],\n",
       "      dtype=object)"
      ]
     },
     "execution_count": 12,
     "metadata": {},
     "output_type": "execute_result"
    }
   ],
   "source": [
    "#identify unique entries\n",
    "fifa21['Hits'].unique()"
   ]
  },
  {
   "cell_type": "markdown",
   "id": "35236f2a",
   "metadata": {},
   "source": [
    "**Observation**\n",
    "- 'k' was used to represent thousand\n",
    "- Datatype is string. i would prefer to convert to float to enable further possible analysis"
   ]
  },
  {
   "cell_type": "code",
   "execution_count": 13,
   "id": "d6d10732",
   "metadata": {},
   "outputs": [],
   "source": [
    "fifa21['Hits']= fifa21['Hits'].astype('str') # had to reconvert to str since 0 as int was used to fill na"
   ]
  },
  {
   "cell_type": "code",
   "execution_count": 14,
   "id": "8c1ddd16",
   "metadata": {},
   "outputs": [],
   "source": [
    "#change k to thousand\n",
    "\n",
    "def hit(column):\n",
    "    if \"K\" in column:\n",
    "        column = column.replace('K', \"\")\n",
    "        column = float(column)* 1000\n",
    "        return  round(int(column)) #returns output as type integer\n",
    "    else:\n",
    "        return int(column)"
   ]
  },
  {
   "cell_type": "code",
   "execution_count": 15,
   "id": "1cf38c6b",
   "metadata": {},
   "outputs": [],
   "source": [
    "# apply function on the necessary column\n",
    "fifa21.Hits = fifa21.Hits.apply(hit)"
   ]
  },
  {
   "cell_type": "code",
   "execution_count": 16,
   "id": "f415d1c3",
   "metadata": {},
   "outputs": [
    {
     "data": {
      "text/plain": [
       "array([ 771,  562,  150,  207,  595,  248,  246,  120, 1600,  130,  321,\n",
       "        189,  175,   96,  118,  216,  212,  154,  205,  202,  339,  408,\n",
       "        103,  332,   86,  173,  161,  396, 1100,  433,  242,  206,  177,\n",
       "       1500,  198,  459,  117,  119,  209,   84,  187,  165,  203,   65,\n",
       "        336,  126,  313,  124,  145,  538,  182,  101,   45,  377,   99,\n",
       "        194,  403,  414,  593,  374,  245, 3200,  266,  299,  309,  215,\n",
       "        265,  211,  112,  337,   70,  159,  688,  116,   63,  144,  123,\n",
       "         71,  224,  113,  168,   61,   89,  137,  278,   75,  148,  176,\n",
       "        197,  264,  214,  247,  402,  440, 1700, 2300,  171,  320,  657,\n",
       "         87,  259,  200,  255,  253,  196,   60,   97,   85,  169,  256,\n",
       "        132,  239,  166,  121,  109,   32,   46,  122,   48,  527,  199,\n",
       "        282,   51, 1900,  642,  155,  323,  288,  497,  509,   79,   49,\n",
       "        270,  511,   80,  128,  115,  156,  204,  143,  140,  152,  220,\n",
       "        134,  225,   94,   74,  135,  142,   50,   77,   40,  107,  193,\n",
       "        179,   34,   64,  453,   57,   81,   28,   78,  133,   43,  425,\n",
       "         88,   42,   36,  233,  376,  210,  444,  100,  263,   98,   29,\n",
       "        160,   39,  257,    6,  310,  138,   62,  293,  285,  362,   66,\n",
       "         69,   58,   21,   20,  131,   38,  406,   68,  108,  110,   93,\n",
       "        512,  443,  306,  352,  422,  585,  346,  178,  841,   76,  394,\n",
       "         72,  172,   44,  407,  230,  367,  295,  157,  243,   56,  111,\n",
       "        326,  679,   18,   92,   59,   25,  184,   53,   12,   90,   55,\n",
       "         73,   11,  566,  180,   83,  262,   17,   26,   31,  280,  359,\n",
       "        213,  297,  387,  480,  381,  677,  486,    8,  244,  129,  388,\n",
       "        275,  319, 2000,   52,   91,  421,  153,   27,   41,  222,   35,\n",
       "        102,   23,   30,   33,  146,   13,   19,   14,  106,  276,  568,\n",
       "        353,   47,  478,  249,  254,  369,  219,  565,  237,  227,  434,\n",
       "        375,  162,  605,  654,    3,    7,    9,  104,  114,  186,  446,\n",
       "        756,   22,  139,  500,   67,  147,  149,   16,   82,   54,   37,\n",
       "         15, 1300, 3000,  952,    5,  749,  541,  330,  393,  517,  770,\n",
       "        409,  170,  125,  283,  342,  363,  580,  105,  217,   24,  141,\n",
       "         10,  427,  158,  426,    4,  666,  181,  324,  979, 1400,  302,\n",
       "        751,  298,  411,  944,    2,  947,  292,  349,  621,    1, 2800,\n",
       "        338,  287,  261,  218, 1800,  240,  279,  229,  188,  315,  664,\n",
       "        613,  190,  706,  127,  462,  386,  695,  491,  167,  281,  250,\n",
       "        307,   95,  231,  174,  680,  633,  221,  348,  602,  183,  653,\n",
       "        195,  164,  151,  258, 8400,  343,  419,  655,  136,  399,  531,\n",
       "        357,  228,  385,  312,  340,  238,  487,  355,  499, 4300,  296,\n",
       "        515,  943, 1200,  903,  335,  191,  594,  267,  617,  516,  504,\n",
       "        331,  652,  410,  550,  473,  442,  344,  208, 1000, 2500,  273,\n",
       "        485,  826,  192,  405,  941,  477,  644,  303,  417, 6000,    0],\n",
       "      dtype=int64)"
      ]
     },
     "execution_count": 16,
     "metadata": {},
     "output_type": "execute_result"
    }
   ],
   "source": [
    "#Test\n",
    "fifa21['Hits'].unique()"
   ]
  },
  {
   "cell_type": "markdown",
   "id": "8bb6c1d4",
   "metadata": {},
   "source": [
    "## Club column"
   ]
  },
  {
   "cell_type": "code",
   "execution_count": 17,
   "id": "766f71a0",
   "metadata": {},
   "outputs": [
    {
     "data": {
      "text/plain": [
       "array(['\\n\\n\\n\\nFC Barcelona', '\\n\\n\\n\\nJuventus',\n",
       "       '\\n\\n\\n\\nAtlético Madrid', '\\n\\n\\n\\nManchester City',\n",
       "       '\\n\\n\\n\\nParis Saint-Germain', '\\n\\n\\n\\nFC Bayern München',\n",
       "       '\\n\\n\\n\\nLiverpool', '\\n\\n\\n\\nReal Madrid', '\\n\\n\\n\\nChelsea',\n",
       "       '\\n\\n\\n\\nTottenham Hotspur', '\\n\\n\\n\\nInter', '\\n\\n\\n\\nNapoli',\n",
       "       '\\n\\n\\n\\nBorussia Dortmund', '\\n\\n\\n\\nManchester United',\n",
       "       '\\n\\n\\n\\nArsenal', '\\n\\n\\n\\nLazio', '\\n\\n\\n\\nLeicester City',\n",
       "       '\\n\\n\\n\\nBorussia Mönchengladbach', '\\n\\n\\n\\nReal Sociedad',\n",
       "       '\\n\\n\\n\\nAtalanta', '\\n\\n\\n\\nOlympique Lyonnais', '\\n\\n\\n\\nMilan',\n",
       "       '\\n\\n\\n\\nVillarreal CF', '\\n\\n\\n\\nRB Leipzig', '\\n\\n\\n\\nCagliari',\n",
       "       '\\n\\n\\n\\nAjax', '\\n\\n\\n\\nSL Benfica', '\\n\\n\\n\\nAS Monaco',\n",
       "       '\\n\\n\\n\\nWolverhampton Wanderers', '\\n\\n\\n\\nEverton',\n",
       "       '\\n\\n\\n\\nFiorentina', '\\n\\n\\n\\nFC Porto', '\\n\\n\\n\\nRC Celta',\n",
       "       '\\n\\n\\n\\nTorino', '\\n\\n\\n\\nSevilla FC', '\\n\\n\\n\\nGrêmio',\n",
       "       '\\n\\n\\n\\nReal Betis', '\\n\\n\\n\\nRoma', '\\n\\n\\n\\nNewcastle United',\n",
       "       '\\n\\n\\n\\nEintracht Frankfurt', '\\n\\n\\n\\nValencia CF',\n",
       "       '\\n\\n\\n\\nMedipol Başakşehir FK', '\\n\\n\\n\\nInter Miami',\n",
       "       '\\n\\n\\n\\nBayer 04 Leverkusen', '\\n\\n\\n\\nLevante UD',\n",
       "       '\\n\\n\\n\\nCrystal Palace', '\\n\\n\\n\\nAthletic Club de Bilbao',\n",
       "       '\\n\\n\\n\\nShanghai SIPG FC', '\\n\\n\\n\\nVfL Wolfsburg',\n",
       "       '\\n\\n\\n\\nGuangzhou Evergrande Taobao FC', '\\n\\n\\n\\nAl Shabab',\n",
       "       '\\n\\n\\n\\nOlympique de Marseille', '\\n\\n\\n\\nLos Angeles FC',\n",
       "       '\\n\\n\\n\\nBeijing Sinobo Guoan FC', '\\n\\n\\n\\nGetafe CF',\n",
       "       '\\n\\n\\n\\nSV Werder Bremen', '\\n\\n\\n\\nTSG 1899 Hoffenheim',\n",
       "       '\\n\\n\\n\\nLOSC Lille', '\\n\\n\\n\\nDeportivo Alavés',\n",
       "       '\\n\\n\\n\\nBurnley', '\\n\\n\\n\\nLeeds United', '\\n\\n\\n\\nFulham',\n",
       "       '\\n\\n\\n\\nPFC CSKA Moscow', '\\n\\n\\n\\nGenoa',\n",
       "       '\\n\\n\\n\\nGalatasaray SK', '\\n\\n\\n\\nAtlanta United',\n",
       "       '\\n\\n\\n\\nAtlético Mineiro', '\\n\\n\\n\\nFlamengo',\n",
       "       '\\n\\n\\n\\nPalmeiras', 'No Club', '\\n\\n\\n\\nSão Paulo',\n",
       "       '\\n\\n\\n\\nWest Ham United', '\\n\\n\\n\\nSD Eibar',\n",
       "       '\\n\\n\\n\\nRiver Plate', '\\n\\n\\n\\nOGC Nice',\n",
       "       '\\n\\n\\n\\nReal Valladolid CF', '\\n\\n\\n\\nSporting CP', '\\n\\n\\n\\nPSV',\n",
       "       '\\n\\n\\n\\nFeyenoord', '\\n\\n\\n\\nClub Brugge KV',\n",
       "       '\\n\\n\\n\\nShakhtar Donetsk', '\\n\\n\\n\\nVissel Kobe',\n",
       "       '\\n\\n\\n\\nBoca Juniors', '\\n\\n\\n\\n1. FC Union Berlin',\n",
       "       '\\n\\n\\n\\nDalian YiFang FC', '\\n\\n\\n\\nAS Saint-Étienne',\n",
       "       '\\n\\n\\n\\nSassuolo', '\\n\\n\\n\\nTigres U.A.N.L.',\n",
       "       '\\n\\n\\n\\nDinamo Zagreb', '\\n\\n\\n\\nDynamo Kyiv',\n",
       "       '\\n\\n\\n\\nFluminense', '\\n\\n\\n\\nUdinese', '\\n\\n\\n\\nAston Villa',\n",
       "       '\\n\\n\\n\\nStade Rennais FC', '\\n\\n\\n\\nBeşiktaş JK',\n",
       "       '\\n\\n\\n\\nBrighton & Hove Albion', '\\n\\n\\n\\nHebei China Fortune FC',\n",
       "       '\\n\\n\\n\\nSouthampton', '\\n\\n\\n\\nLokomotiv Moscow',\n",
       "       '\\n\\n\\n\\nJiangsu Suning FC', '\\n\\n\\n\\nAl Hilal',\n",
       "       '\\n\\n\\n\\nWest Bromwich Albion', '\\n\\n\\n\\nFenerbahçe SK',\n",
       "       '\\n\\n\\n\\nFC Groningen', '\\n\\n\\n\\nGuangzhou R&F FC',\n",
       "       '\\n\\n\\n\\nOrlando City SC', '\\n\\n\\n\\nSampdoria',\n",
       "       '\\n\\n\\n\\nStade de Reims', '\\n\\n\\n\\nSheffield United',\n",
       "       '\\n\\n\\n\\nSantos', '\\n\\n\\n\\nInternacional', '\\n\\n\\n\\nCoritiba',\n",
       "       '\\n\\n\\n\\nCA Osasuna', '\\n\\n\\n\\nLA Galaxy', '\\n\\n\\n\\nAl Nassr',\n",
       "       '\\n\\n\\n\\nSC Freiburg', '\\n\\n\\n\\nSC Braga',\n",
       "       '\\n\\n\\n\\nOlympiacos CFP', '\\n\\n\\n\\nToronto FC',\n",
       "       '\\n\\n\\n\\nGranada CF', '\\n\\n\\n\\nFC Schalke 04',\n",
       "       '\\n\\n\\n\\nRC Strasbourg Alsace', '\\n\\n\\n\\nHertha BSC',\n",
       "       '\\n\\n\\n\\nAZ Alkmaar', '\\n\\n\\n\\nSeattle Sounders FC',\n",
       "       '\\n\\n\\n\\nMontpellier HSC', '\\n\\n\\n\\nShanghai Greenland Shenhua FC',\n",
       "       '\\n\\n\\n\\nHamburger SV', '\\n\\n\\n\\nGirona FC', '\\n\\n\\n\\nRacing Club',\n",
       "       '\\n\\n\\n\\nPortland Timbers', '\\n\\n\\n\\nFC Girondins de Bordeaux',\n",
       "       '\\n\\n\\n\\nWatford', '\\n\\n\\n\\nEstudiantes de La Plata',\n",
       "       '\\n\\n\\n\\nClub América', '\\n\\n\\n\\nVitória Guimarães',\n",
       "       '\\n\\n\\n\\nSK Slavia Praha', '\\n\\n\\n\\nTrabzonspor',\n",
       "       '\\n\\n\\n\\nRCD Espanyol', '\\n\\n\\n\\nFC Nantes', '\\n\\n\\n\\nAngers SCO',\n",
       "       '\\n\\n\\n\\nCruz Azul', '\\n\\n\\n\\nBSC Young Boys', '\\n\\n\\n\\nClub León',\n",
       "       '\\n\\n\\n\\nSpartak Moscow', '\\n\\n\\n\\nSivasspor', '\\n\\n\\n\\nElche CF',\n",
       "       '\\n\\n\\n\\nFC Augsburg', '\\n\\n\\n\\nWuhan Zall', '\\n\\n\\n\\nParma',\n",
       "       '\\n\\n\\n\\nRoyal Antwerp FC', '\\n\\n\\n\\nMonterrey',\n",
       "       '\\n\\n\\n\\nSan Lorenzo de Almagro', '\\n\\n\\n\\nAC Monza',\n",
       "       '\\n\\n\\n\\nClub Atlético Lanús', '\\n\\n\\n\\nSD Huesca',\n",
       "       '\\n\\n\\n\\nDerby County', '\\n\\n\\n\\nKayserispor',\n",
       "       '\\n\\n\\n\\nRSC Anderlecht', '\\n\\n\\n\\nCD Leganés',\n",
       "       '\\n\\n\\n\\nVélez Sarsfield', '\\n\\n\\n\\nStade Brestois 29',\n",
       "       '\\n\\n\\n\\nTianjin TEDA FC', '\\n\\n\\n\\nBirmingham City',\n",
       "       '\\n\\n\\n\\nHellas Verona', '\\n\\n\\n\\n1. FC Köln', '\\n\\n\\n\\nAl Wehda',\n",
       "       '\\n\\n\\n\\nBournemouth', '\\n\\n\\n\\nAlanyaspor', '\\n\\n\\n\\nBologna',\n",
       "       '\\n\\n\\n\\nAmiens SC', '\\n\\n\\n\\nCeltic',\n",
       "       '\\n\\n\\n\\nShijiazhuang Ever Bright F.C.', '\\n\\n\\n\\nClub Atlas',\n",
       "       '\\n\\n\\n\\nAl Ahli', '\\n\\n\\n\\nNorwich City',\n",
       "       '\\n\\n\\n\\nFatih Karagümrük S.K.', '\\n\\n\\n\\nClub Tijuana',\n",
       "       '\\n\\n\\n\\nUniversidad Católica', '\\n\\n\\n\\nGoiás',\n",
       "       '\\n\\n\\n\\nBenevento', '\\n\\n\\n\\nIndependiente',\n",
       "       '\\n\\n\\n\\nQingdao Huanghai F.C.', '\\n\\n\\n\\nBrentford',\n",
       "       '\\n\\n\\n\\nAEK Athens', '\\n\\n\\n\\nRacing Club de Lens',\n",
       "       '\\n\\n\\n\\nOlimpia Asunción', '\\n\\n\\n\\nShenzhen FC',\n",
       "       '\\n\\n\\n\\nÇaykur Rizespor', '\\n\\n\\n\\nKAA Gent',\n",
       "       '\\n\\n\\n\\nNew England Revolution', '\\n\\n\\n\\nCádiz CF',\n",
       "       '\\n\\n\\n\\n1. FSV Mainz 05', '\\n\\n\\n\\nVasco da Gama',\n",
       "       '\\n\\n\\n\\nFC Midtjylland', '\\n\\n\\n\\nAl Ain FC',\n",
       "       '\\n\\n\\n\\nSantos Laguna', '\\n\\n\\n\\nSPAL', '\\n\\n\\n\\nPerth Glory',\n",
       "       '\\n\\n\\n\\nFC Utrecht', '\\n\\n\\n\\nMontreal Impact',\n",
       "       '\\n\\n\\n\\nUD Almería', '\\n\\n\\n\\nFortaleza', '\\n\\n\\n\\nSpezia',\n",
       "       '\\n\\n\\n\\nFC Basel 1893', '\\n\\n\\n\\nFC København',\n",
       "       '\\n\\n\\n\\nGodoy Cruz', '\\n\\n\\n\\nDeportivo Toluca',\n",
       "       '\\n\\n\\n\\nNacional de Montevideo', '\\n\\n\\n\\nAalborg BK',\n",
       "       '\\n\\n\\n\\nRio Ave FC', '\\n\\n\\n\\nFC Metz',\n",
       "       '\\n\\n\\n\\nChongqing Dangdai Lifan FC SWM Team',\n",
       "       '\\n\\n\\n\\nRosenborg BK', '\\n\\n\\n\\nFC Red Bull Salzburg',\n",
       "       '\\n\\n\\n\\nBotafogo', '\\n\\n\\n\\nDSC Arminia Bielefeld',\n",
       "       '\\n\\n\\n\\nClub Athletico Paranaense', '\\n\\n\\n\\nRCD Mallorca',\n",
       "       '\\n\\n\\n\\nPachuca', '\\n\\n\\n\\nSwansea City', '\\n\\n\\n\\nKRC Genk',\n",
       "       '\\n\\n\\n\\nEn Avant de Guingamp', '\\n\\n\\n\\nLecce',\n",
       "       '\\n\\n\\n\\nNîmes Olympique', '\\n\\n\\n\\nColo-Colo',\n",
       "       '\\n\\n\\n\\nStade Malherbe Caen', '\\n\\n\\n\\nColumbus Crew SC',\n",
       "       '\\n\\n\\n\\nJunior FC', '\\n\\n\\n\\nVfB Stuttgart',\n",
       "       '\\n\\n\\n\\nMoreirense FC', '\\n\\n\\n\\nRangers FC', '\\n\\n\\n\\nMalmö FF',\n",
       "       '\\n\\n\\n\\nShandong Luneng TaiShan FC', '\\n\\n\\n\\nSparta Praha',\n",
       "       '\\n\\n\\n\\nHatayspor', '\\n\\n\\n\\nChicago Fire',\n",
       "       '\\n\\n\\n\\nToulouse Football Club', '\\n\\n\\n\\nFC Seoul',\n",
       "       '\\n\\n\\n\\nAntalyaspor', '\\n\\n\\n\\nDeportivo Cali',\n",
       "       '\\n\\n\\n\\nKaizer Chiefs', '\\n\\n\\n\\nReal Zaragoza',\n",
       "       '\\n\\n\\n\\nAtlético Clube Goianiense', '\\n\\n\\n\\nPuebla FC',\n",
       "       '\\n\\n\\n\\nFortuna Düsseldorf', '\\n\\n\\n\\nWestern United FC',\n",
       "       '\\n\\n\\n\\nAstra Giurgiu', '\\n\\n\\n\\nHenan Jianye FC',\n",
       "       '\\n\\n\\n\\nBahia', '\\n\\n\\n\\nFamalicão', '\\n\\n\\n\\nAtiker Konyaspor',\n",
       "       '\\n\\n\\n\\nPeñarol', '\\n\\n\\n\\nDC United', '\\n\\n\\n\\nNew York City FC',\n",
       "       '\\n\\n\\n\\nArgentinos Juniors', '\\n\\n\\n\\nU.N.A.M.',\n",
       "       '\\n\\n\\n\\nMinnesota United FC', '\\n\\n\\n\\nNottingham Forest',\n",
       "       '\\n\\n\\n\\nIndependiente del Valle', '\\n\\n\\n\\nDefensa y Justicia',\n",
       "       '\\n\\n\\n\\nPhiladelphia Union', \"\\n\\n\\n\\nNewell's Old Boys\",\n",
       "       '\\n\\n\\n\\nRosario Central', '\\n\\n\\n\\nAtlético de San Luis',\n",
       "       '\\n\\n\\n\\nFC Dallas', '\\n\\n\\n\\nDenizlispor',\n",
       "       '\\n\\n\\n\\nYeni Malatyaspor', '\\n\\n\\n\\nClub Atlético Colón',\n",
       "       '\\n\\n\\n\\nHouston Dynamo', '\\n\\n\\n\\nMillwall',\n",
       "       '\\n\\n\\n\\nClube Sport Marítimo', '\\n\\n\\n\\nMKE Ankaragücü',\n",
       "       '\\n\\n\\n\\nGuadalajara', '\\n\\n\\n\\nBoavista FC',\n",
       "       '\\n\\n\\n\\nSporting Kansas City', '\\n\\n\\n\\nAtlético Nacional',\n",
       "       '\\n\\n\\n\\nCD Lugo', '\\n\\n\\n\\nNew York Red Bulls', '\\n\\n\\n\\nPAOK',\n",
       "       '\\n\\n\\n\\nSC Heerenveen', '\\n\\n\\n\\nDaegu FC',\n",
       "       '\\n\\n\\n\\nPreston North End', '\\n\\n\\n\\nDamac FC', '\\n\\n\\n\\nBrescia',\n",
       "       '\\n\\n\\n\\nVfL Bochum 1848', '\\n\\n\\n\\nVancouver Whitecaps FC',\n",
       "       '\\n\\n\\n\\nSV Sandhausen', '\\n\\n\\n\\nRoyal Excel Mouscron',\n",
       "       '\\n\\n\\n\\nDijon FCO', '\\n\\n\\n\\nMolde FK',\n",
       "       '\\n\\n\\n\\nPanathinaikos FC', '\\n\\n\\n\\nLASK Linz',\n",
       "       '\\n\\n\\n\\nUlsan Hyundai FC', '\\n\\n\\n\\nReal Salt Lake',\n",
       "       '\\n\\n\\n\\nFC Luzern', '\\n\\n\\n\\nViktoria Plzeň',\n",
       "       '\\n\\n\\n\\nOrlando Pirates', '\\n\\n\\n\\nAl Ittihad',\n",
       "       '\\n\\n\\n\\n1. FC Nürnberg', '\\n\\n\\n\\nStandard de Liège',\n",
       "       '\\n\\n\\n\\nRayo Vallecano', '\\n\\n\\n\\nClub Libertad',\n",
       "       '\\n\\n\\n\\nJeonbuk Hyundai Motors',\n",
       "       '\\n\\n\\n\\nWestern Sydney Wanderers', '\\n\\n\\n\\nUnión de Santa Fe',\n",
       "       '\\n\\n\\n\\nFC Sion', '\\n\\n\\n\\nSydney FC', '\\n\\n\\n\\nHannover 96',\n",
       "       '\\n\\n\\n\\nReal Sporting de Gijón', '\\n\\n\\n\\nFC Cincinnati',\n",
       "       '\\n\\n\\n\\nESTAC Troyes', '\\n\\n\\n\\nSan Jose Earthquakes',\n",
       "       '\\n\\n\\n\\nClub Guaraní', '\\n\\n\\n\\nFC Lorient',\n",
       "       '\\n\\n\\n\\nGençlerbirliği SK', '\\n\\n\\n\\nSporting de Charleroi',\n",
       "       '\\n\\n\\n\\nWisła Kraków', '\\n\\n\\n\\nAl Taawoun', '\\n\\n\\n\\nReading',\n",
       "       '\\n\\n\\n\\nGazişehir Gaziantep F.K.', '\\n\\n\\n\\nBlackburn Rovers',\n",
       "       '\\n\\n\\n\\nKashiwa Reysol', '\\n\\n\\n\\nFK Bodø/Glimt',\n",
       "       '\\n\\n\\n\\nWillem II', '\\n\\n\\n\\nVitesse', '\\n\\n\\n\\nGil Vicente FC',\n",
       "       '\\n\\n\\n\\nSønderjyskE', '\\n\\n\\n\\nYokohama F. Marinos',\n",
       "       '\\n\\n\\n\\nFC St. Gallen', '\\n\\n\\n\\nClub Atlético Aldosivi',\n",
       "       '\\n\\n\\n\\nGöztepe SK', '\\n\\n\\n\\nHolstein Kiel', '\\n\\n\\n\\nFC Juárez',\n",
       "       '\\n\\n\\n\\nFCSB (Steaua)', '\\n\\n\\n\\nEttifaq FC', '\\n\\n\\n\\nKAS Eupen',\n",
       "       '\\n\\n\\n\\nFC Tokyo', '\\n\\n\\n\\nMelbourne City FC',\n",
       "       '\\n\\n\\n\\nUniversitatea Craiova', '\\n\\n\\n\\nCD Tondela',\n",
       "       '\\n\\n\\n\\nWolfsberger AC', '\\n\\n\\n\\nCeará Sporting Club',\n",
       "       '\\n\\n\\n\\nRiver Plate Asunción', '\\n\\n\\n\\nStoke City',\n",
       "       '\\n\\n\\n\\nParis FC', '\\n\\n\\n\\nIFK Norrköping', '\\n\\n\\n\\nCrotone',\n",
       "       '\\n\\n\\n\\nCardiff City', '\\n\\n\\n\\nAmérica de Cali',\n",
       "       '\\n\\n\\n\\nAl Faisaly', '\\n\\n\\n\\nIndependiente Medellín',\n",
       "       '\\n\\n\\n\\nPortimonense SC', '\\n\\n\\n\\nCD Tenerife',\n",
       "       '\\n\\n\\n\\nHeracles Almelo', '\\n\\n\\n\\nNashville SC',\n",
       "       '\\n\\n\\n\\nSK Rapid Wien', '\\n\\n\\n\\nKawasaki Frontale',\n",
       "       '\\n\\n\\n\\nClub Necaxa', '\\n\\n\\n\\nChievo Verona',\n",
       "       '\\n\\n\\n\\nLech Poznań', '\\n\\n\\n\\nAIK', '\\n\\n\\n\\nFK Austria Wien',\n",
       "       '\\n\\n\\n\\nQuerétaro', '\\n\\n\\n\\n1. FC Heidenheim 1846',\n",
       "       '\\n\\n\\n\\nLegia Warszawa', '\\n\\n\\n\\nClub Atlético Banfield',\n",
       "       '\\n\\n\\n\\nOs Belenenses', '\\n\\n\\n\\nHuddersfield Town',\n",
       "       '\\n\\n\\n\\nKSV Cercle Brugge', '\\n\\n\\n\\nLDU Quito',\n",
       "       '\\n\\n\\n\\nGimnasia y Esgrima La Plata', '\\n\\n\\n\\nGamba Osaka',\n",
       "       '\\n\\n\\n\\nMiddlesbrough', '\\n\\n\\n\\nServette FC', '\\n\\n\\n\\nEmpoli',\n",
       "       '\\n\\n\\n\\nReal Oviedo', '\\n\\n\\n\\nKasimpaşa SK', '\\n\\n\\n\\nCFR Cluj',\n",
       "       '\\n\\n\\n\\nMillonarios FC', '\\n\\n\\n\\nFC Paços de Ferreira',\n",
       "       '\\n\\n\\n\\nSint-Truidense VV', '\\n\\n\\n\\nAD Alcorcón',\n",
       "       '\\n\\n\\n\\nColorado Rapids', '\\n\\n\\n\\nDinamo Bucureşti',\n",
       "       '\\n\\n\\n\\nCerezo Osaka', '\\n\\n\\n\\nFC Emmen',\n",
       "       '\\n\\n\\n\\nSheffield Wednesday', '\\n\\n\\n\\nFC Erzgebirge Aue',\n",
       "       '\\n\\n\\n\\nRaków Częstochowa', '\\n\\n\\n\\nAtlético Tucumán',\n",
       "       '\\n\\n\\n\\nSV Darmstadt 98', '\\n\\n\\n\\nBristol City',\n",
       "       '\\n\\n\\n\\nOud-Heverlee Leuven', '\\n\\n\\n\\nBarnsley',\n",
       "       '\\n\\n\\n\\nQueens Park Rangers', '\\n\\n\\n\\nSangju Sangmu FC',\n",
       "       '\\n\\n\\n\\nHelsingborgs IF', '\\n\\n\\n\\nAC Ajaccio',\n",
       "       '\\n\\n\\n\\nOceânico FC', '\\n\\n\\n\\nClub Atlético Talleres',\n",
       "       '\\n\\n\\n\\nAl Hazem', '\\n\\n\\n\\nSC Paderborn 07',\n",
       "       '\\n\\n\\n\\nClub Atlético Huracán', '\\n\\n\\n\\nKV Kortrijk',\n",
       "       '\\n\\n\\n\\nEl Nacional', '\\n\\n\\n\\nMazatlán FC', '\\n\\n\\n\\nAberdeen',\n",
       "       '\\n\\n\\n\\nCD Mirandés', '\\n\\n\\n\\nSV Zulte-Waregem',\n",
       "       '\\n\\n\\n\\nPiast Gliwice', '\\n\\n\\n\\nDjurgårdens IF',\n",
       "       '\\n\\n\\n\\nCentral Córdoba', '\\n\\n\\n\\nWellington Phoenix',\n",
       "       '\\n\\n\\n\\nDeportivo Binacional', '\\n\\n\\n\\nPatronato',\n",
       "       '\\n\\n\\n\\nSpVgg Greuther Fürth', '\\n\\n\\n\\nIFK Göteborg',\n",
       "       '\\n\\n\\n\\nFC Cartagena', '\\n\\n\\n\\nSanta Clara', '\\n\\n\\n\\nFC Twente',\n",
       "       '\\n\\n\\n\\nFarense', '\\n\\n\\n\\nADO Den Haag', '\\n\\n\\n\\nAJ Auxerre',\n",
       "       '\\n\\n\\n\\nAl Fateh', '\\n\\n\\n\\nValenciennes FC',\n",
       "       '\\n\\n\\n\\nHokkaido Consadole Sapporo', '\\n\\n\\n\\nFC St. Pauli',\n",
       "       '\\n\\n\\n\\nAlbacete BP', '\\n\\n\\n\\n1. FC Kaiserslautern',\n",
       "       '\\n\\n\\n\\nAl Fayha', '\\n\\n\\n\\nIncheon United FC',\n",
       "       '\\n\\n\\n\\nKV Mechelen', '\\n\\n\\n\\nPohang Steelers',\n",
       "       '\\n\\n\\n\\nCD Nacional', '\\n\\n\\n\\nUnión La Calera',\n",
       "       '\\n\\n\\n\\nBB Erzurumspor', '\\n\\n\\n\\nKashima Antlers',\n",
       "       '\\n\\n\\n\\nArsenal de Sarandí', '\\n\\n\\n\\nHJK Helsinki',\n",
       "       '\\n\\n\\n\\nKarlsruher SC', '\\n\\n\\n\\nAarhus GF', '\\n\\n\\n\\nFC Zürich',\n",
       "       '\\n\\n\\n\\nBarcelona Sporting Club', '\\n\\n\\n\\nSG Dynamo Dresden',\n",
       "       '\\n\\n\\n\\nSanfrecce Hiroshima', '\\n\\n\\n\\nAl Raed',\n",
       "       '\\n\\n\\n\\nSD Ponferradina', '\\n\\n\\n\\nBrøndby IF',\n",
       "       '\\n\\n\\n\\nLechia Gdańsk', '\\n\\n\\n\\nFC Viitorul',\n",
       "       '\\n\\n\\n\\nSK Sturm Graz', '\\n\\n\\n\\nIF Elfsborg',\n",
       "       '\\n\\n\\n\\nGangwon FC', '\\n\\n\\n\\nMelgar FBC',\n",
       "       '\\n\\n\\n\\nClub Atlético Grau', '\\n\\n\\n\\nJagiellonia Białystok',\n",
       "       '\\n\\n\\n\\nWaasland-Beveren', '\\n\\n\\n\\nVfL Osnabrück',\n",
       "       '\\n\\n\\n\\nNagoya Grampus', '\\n\\n\\n\\nCF Fuenlabrada',\n",
       "       '\\n\\n\\n\\nShamrock Rovers', '\\n\\n\\n\\nShimizu S-Pulse',\n",
       "       '\\n\\n\\n\\nRKC Waalwijk', '\\n\\n\\n\\nVålerenga Fotball',\n",
       "       '\\n\\n\\n\\nClermont Foot 63', '\\n\\n\\n\\nFC Ingolstadt 04',\n",
       "       '\\n\\n\\n\\nFC Würzburger Kickers', '\\n\\n\\n\\nGórnik Zabrze',\n",
       "       '\\n\\n\\n\\nCharlton Athletic', '\\n\\n\\n\\nBeerschot AC',\n",
       "       '\\n\\n\\n\\nCoquimbo Unido', '\\n\\n\\n\\nViktoria Köln',\n",
       "       '\\n\\n\\n\\nHull City', '\\n\\n\\n\\nMálaga CF',\n",
       "       '\\n\\n\\n\\nFC Nordsjælland', '\\n\\n\\n\\nUD Las Palmas',\n",
       "       '\\n\\n\\n\\nVVV-Venlo', '\\n\\n\\n\\nGwangJu FC',\n",
       "       '\\n\\n\\n\\nChamois Niortais Football Club', '\\n\\n\\n\\nFC Lugano',\n",
       "       '\\n\\n\\n\\nCusco FC', '\\n\\n\\n\\nSparta Rotterdam',\n",
       "       '\\n\\n\\n\\nSol de América', '\\n\\n\\n\\nPEC Zwolle',\n",
       "       '\\n\\n\\n\\nPogoń Szczecin', '\\n\\n\\n\\nDoncaster Rovers',\n",
       "       '\\n\\n\\n\\nKristiansund BK', '\\n\\n\\n\\nLiverpool Fútbol Club',\n",
       "       '\\n\\n\\n\\nClub Bolívar', '\\n\\n\\n\\nUrawa Red Diamonds',\n",
       "       '\\n\\n\\n\\nSK Brann', '\\n\\n\\n\\nEintracht Braunschweig',\n",
       "       '\\n\\n\\n\\nNacional Asunción', '\\n\\n\\n\\nMelbourne Victory',\n",
       "       '\\n\\n\\n\\nKilmarnock', '\\n\\n\\n\\nDundalk',\n",
       "       '\\n\\n\\n\\nSSV Jahn Regensburg', '\\n\\n\\n\\nAbha Club',\n",
       "       '\\n\\n\\n\\nClub Atlético Tigre', '\\n\\n\\n\\nSuwon Samsung Bluewings',\n",
       "       '\\n\\n\\n\\nShonan Bellmare', '\\n\\n\\n\\nSD Aucas', '\\n\\n\\n\\nEmelec',\n",
       "       '\\n\\n\\n\\nFortuna Sittard', '\\n\\n\\n\\nLa Berrichonne de Châteauroux',\n",
       "       '\\n\\n\\n\\nŚląsk Wrocław', '\\n\\n\\n\\nCoventry City',\n",
       "       '\\n\\n\\n\\nSunderland', '\\n\\n\\n\\nAlianza Lima',\n",
       "       '\\n\\n\\n\\nHammarby IF', '\\n\\n\\n\\nCracovia',\n",
       "       '\\n\\n\\n\\nCE Sabadell FC', '\\n\\n\\n\\nOita Trinita',\n",
       "       '\\n\\n\\n\\nBK Häcken', '\\n\\n\\n\\nLuton Town', '\\n\\n\\n\\nLe Havre AC',\n",
       "       '\\n\\n\\n\\nIK Sirius', '\\n\\n\\n\\nZagłębie Lubin',\n",
       "       '\\n\\n\\n\\nGrenoble Foot 38', '\\n\\n\\n\\nMacarthur FC',\n",
       "       '\\n\\n\\n\\nRodez Aveyron Football', '\\n\\n\\n\\nVegalta Sendai',\n",
       "       '\\n\\n\\n\\nMotherwell', '\\n\\n\\n\\nSV Wehen Wiesbaden',\n",
       "       '\\n\\n\\n\\nAudax Italiano', '\\n\\n\\n\\nGaz Metan Mediaş',\n",
       "       '\\n\\n\\n\\nPortsmouth', '\\n\\n\\n\\nHibernian', '\\n\\n\\n\\nAlways Ready',\n",
       "       '\\n\\n\\n\\nUD Logroñés', '\\n\\n\\n\\nFC Voluntari',\n",
       "       '\\n\\n\\n\\nFC Hermannstadt', '\\n\\n\\n\\nAS Nancy Lorraine',\n",
       "       '\\n\\n\\n\\nRotherham United', '\\n\\n\\n\\nFleetwood Town',\n",
       "       '\\n\\n\\n\\nJorge Wilstermann', '\\n\\n\\n\\nOdense Boldklub',\n",
       "       '\\n\\n\\n\\nMSV Duisburg', '\\n\\n\\n\\nFC Sochaux-Montbéliard',\n",
       "       '\\n\\n\\n\\nMilton Keynes Dons', '\\n\\n\\n\\nRiver Plate Montevideo',\n",
       "       '\\n\\n\\n\\nDelfín SC', '\\n\\n\\n\\nUniversidad Católica del Ecuador',\n",
       "       '\\n\\n\\n\\nDeportivo Pasto', '\\n\\n\\n\\nKV Oostende',\n",
       "       '\\n\\n\\n\\nClub Plaza Colonia', '\\n\\n\\n\\nWigan Athletic',\n",
       "       '\\n\\n\\n\\nFC Botoşani', '\\n\\n\\n\\nC.D. Castellón',\n",
       "       '\\n\\n\\n\\nSCR Altach', '\\n\\n\\n\\nÖrebro SK', '\\n\\n\\n\\nTSV Hartberg',\n",
       "       '\\n\\n\\n\\nStabæk Fotball', '\\n\\n\\n\\nWycombe Wanderers',\n",
       "       '\\n\\n\\n\\nSt. Johnstone FC', '\\n\\n\\n\\nOxford United',\n",
       "       '\\n\\n\\n\\nLincoln City', '\\n\\n\\n\\nRanders FC', '\\n\\n\\n\\nViking FK',\n",
       "       '\\n\\n\\n\\nFC Chambly Oise', '\\n\\n\\n\\nDundee United',\n",
       "       '\\n\\n\\n\\nOriente Petrolero', '\\n\\n\\n\\nOdds BK',\n",
       "       '\\n\\n\\n\\nNacional Potosí', '\\n\\n\\n\\nSepsi OSK',\n",
       "       '\\n\\n\\n\\nFC Hansa Rostock', '\\n\\n\\n\\nLyngby BK',\n",
       "       '\\n\\n\\n\\nSpVgg Unterhaching', '\\n\\n\\n\\nBrisbane Roar',\n",
       "       '\\n\\n\\n\\nSeongnam FC', '\\n\\n\\n\\nSV Ried', '\\n\\n\\n\\nCD Huachipato',\n",
       "       '\\n\\n\\n\\nWSG Tirol', '\\n\\n\\n\\nPodbeskidzie Bielsko-Biała',\n",
       "       '\\n\\n\\n\\nPeterborough United', '\\n\\n\\n\\nClub Blooming',\n",
       "       '\\n\\n\\n\\nWisła Płock', '\\n\\n\\n\\nBusan IPark',\n",
       "       '\\n\\n\\n\\nFSV Zwickau', '\\n\\n\\n\\nMjøndalen IF',\n",
       "       '\\n\\n\\n\\nVejle Boldklub', '\\n\\n\\n\\nPau FC',\n",
       "       '\\n\\n\\n\\nFC Lausanne-Sport', '\\n\\n\\n\\nEstudiantes de Mérida',\n",
       "       '\\n\\n\\n\\nSagan Tosu', '\\n\\n\\n\\nSV Waldhof Mannheim',\n",
       "       '\\n\\n\\n\\nSport Huancayo', '\\n\\n\\n\\nHallescher FC',\n",
       "       '\\n\\n\\n\\nKalmar FF', '\\n\\n\\n\\nSt. Mirren',\n",
       "       '\\n\\n\\n\\nSKN St. Pölten', '\\n\\n\\n\\nSarpsborg 08 FF',\n",
       "       '\\n\\n\\n\\nShrewsbury', '\\n\\n\\n\\nTSV 1860 München',\n",
       "       '\\n\\n\\n\\nSV Meppen', '\\n\\n\\n\\nIpswich Town', '\\n\\n\\n\\nIK Start',\n",
       "       '\\n\\n\\n\\nAdelaide United', '\\n\\n\\n\\nStal Mielec',\n",
       "       '\\n\\n\\n\\nCentro Atlético Fénix', '\\n\\n\\n\\nNewcastle Jets',\n",
       "       '\\n\\n\\n\\nLivingston FC', '\\n\\n\\n\\nAC Mineros de Guayana',\n",
       "       '\\n\\n\\n\\nAFC Wimbledon', '\\n\\n\\n\\nBurton Albion',\n",
       "       '\\n\\n\\n\\nAl Adalah', '\\n\\n\\n\\nWarta Poznań',\n",
       "       '\\n\\n\\n\\nUSL Dunkerque', '\\n\\n\\n\\nBristol Rovers',\n",
       "       '\\n\\n\\n\\nUTA Arad', '\\n\\n\\n\\nÖstersunds FK',\n",
       "       '\\n\\n\\n\\nSportivo Luqueño', '\\n\\n\\n\\nPolitehnica Iaşi',\n",
       "       '\\n\\n\\n\\nSalford City', '\\n\\n\\n\\nCentral Coast Mariners',\n",
       "       '\\n\\n\\n\\nCaracas FC', '\\n\\n\\n\\nAC Horsens',\n",
       "       '\\n\\n\\n\\nPlymouth Argyle', '\\n\\n\\n\\nAalesunds FK',\n",
       "       '\\n\\n\\n\\nCrewe Alexandra', '\\n\\n\\n\\nChindia Târgovişte',\n",
       "       '\\n\\n\\n\\nOldham Athletic', '\\n\\n\\n\\nYokohama FC',\n",
       "       '\\n\\n\\n\\nBlackpool', '\\n\\n\\n\\nNorthampton Town',\n",
       "       '\\n\\n\\n\\nBayern München II', '\\n\\n\\n\\nFK Haugesund',\n",
       "       '\\n\\n\\n\\nKFC Uerdingen 05', '\\n\\n\\n\\nForest Green Rovers',\n",
       "       '\\n\\n\\n\\nCheltenham Town', '\\n\\n\\n\\nStrømsgodset IF',\n",
       "       '\\n\\n\\n\\nMjällby AIF', '\\n\\n\\n\\nExeter City',\n",
       "       '\\n\\n\\n\\nCambridge United', '\\n\\n\\n\\nGrimsby Town',\n",
       "       '\\n\\n\\n\\nFC Vaduz', '\\n\\n\\n\\nTürkgücü München',\n",
       "       '\\n\\n\\n\\nVfB Lübeck', '\\n\\n\\n\\nBolton Wanderers',\n",
       "       '\\n\\n\\n\\nBradford City', '\\n\\n\\n\\n1. FC Magdeburg',\n",
       "       '\\n\\n\\n\\nFC Admira Wacker Mödling',\n",
       "       '\\n\\n\\n\\nHamilton Academical FC', '\\n\\n\\n\\nAragua FC',\n",
       "       '\\n\\n\\n\\nAccrington Stanley', '\\n\\n\\n\\nSwindon Town',\n",
       "       '\\n\\n\\n\\nCarlisle United', '\\n\\n\\n\\nFC Argeș', '\\n\\n\\n\\nPort Vale',\n",
       "       '\\n\\n\\n\\nAcademica Clinceni', '\\n\\n\\n\\nRochdale',\n",
       "       '\\n\\n\\n\\nGillingham', '\\n\\n\\n\\nTranmere Rovers',\n",
       "       '\\n\\n\\n\\nSouthend United', '\\n\\n\\n\\n1. FC Saarbrücken',\n",
       "       '\\n\\n\\n\\nColchester United', '\\n\\n\\n\\nMansfield Town',\n",
       "       '\\n\\n\\n\\nFalkenbergs FF', '\\n\\n\\n\\nSC Verl',\n",
       "       '\\n\\n\\n\\nVarbergs BoIS', '\\n\\n\\n\\nCrawley Town',\n",
       "       '\\n\\n\\n\\nSandefjord Fotball', '\\n\\n\\n\\nNewport County',\n",
       "       '\\n\\n\\n\\nBohemian FC', '\\n\\n\\n\\nRoss County FC',\n",
       "       '\\n\\n\\n\\nScunthorpe United', '\\n\\n\\n\\nMorecambe',\n",
       "       '\\n\\n\\n\\nWalsall', '\\n\\n\\n\\nLeyton Orient', '\\n\\n\\n\\nStevenage',\n",
       "       '\\n\\n\\n\\nBarrow', '\\n\\n\\n\\nDerry City',\n",
       "       '\\n\\n\\n\\nLlaneros de Guanare', '\\n\\n\\n\\nSligo Rovers',\n",
       "       '\\n\\n\\n\\nZamora FC', \"\\n\\n\\n\\nSt. Patrick's Athletic\",\n",
       "       '\\n\\n\\n\\nCork City', '\\n\\n\\n\\nShelbourne FC',\n",
       "       '\\n\\n\\n\\nHarrogate Town', '\\n\\n\\n\\nWaterford FC',\n",
       "       '\\n\\n\\n\\nFinn Harps'], dtype=object)"
      ]
     },
     "execution_count": 17,
     "metadata": {},
     "output_type": "execute_result"
    }
   ],
   "source": [
    "#identify unique entries\n",
    "fifa21.Club.unique()"
   ]
  },
  {
   "cell_type": "markdown",
   "id": "5d1e0804",
   "metadata": {},
   "source": [
    "**Observation**\n",
    "- \\n is added Club name. This will need to be cleared"
   ]
  },
  {
   "cell_type": "code",
   "execution_count": 18,
   "id": "896dfbb4",
   "metadata": {},
   "outputs": [
    {
     "data": {
      "text/plain": [
       "array(['FC Barcelona', 'Juventus', 'Atlético Madrid', 'Manchester City',\n",
       "       'Paris Saint-Germain', 'FC Bayern München', 'Liverpool',\n",
       "       'Real Madrid', 'Chelsea', 'Tottenham Hotspur', 'Inter', 'Napoli',\n",
       "       'Borussia Dortmund', 'Manchester United', 'Arsenal', 'Lazio',\n",
       "       'Leicester City', 'Borussia Mönchengladbach', 'Real Sociedad',\n",
       "       'Atalanta', 'Olympique Lyonnais', 'Milan', 'Villarreal CF',\n",
       "       'RB Leipzig', 'Cagliari', 'Ajax', 'SL Benfica', 'AS Monaco',\n",
       "       'Wolverhampton Wanderers', 'Everton', 'Fiorentina', 'FC Porto',\n",
       "       'RC Celta', 'Torino', 'Sevilla FC', 'Grêmio', 'Real Betis', 'Roma',\n",
       "       'Newcastle United', 'Eintracht Frankfurt', 'Valencia CF',\n",
       "       'Medipol Başakşehir FK', 'Inter Miami', 'Bayer 04 Leverkusen',\n",
       "       'Levante UD', 'Crystal Palace', 'Athletic Club de Bilbao',\n",
       "       'Shanghai SIPG FC', 'VfL Wolfsburg',\n",
       "       'Guangzhou Evergrande Taobao FC', 'Al Shabab',\n",
       "       'Olympique de Marseille', 'Los Angeles FC',\n",
       "       'Beijing Sinobo Guoan FC', 'Getafe CF', 'SV Werder Bremen',\n",
       "       'TSG 1899 Hoffenheim', 'LOSC Lille', 'Deportivo Alavés', 'Burnley',\n",
       "       'Leeds United', 'Fulham', 'PFC CSKA Moscow', 'Genoa',\n",
       "       'Galatasaray SK', 'Atlanta United', 'Atlético Mineiro', 'Flamengo',\n",
       "       'Palmeiras', 'No Club', 'São Paulo', 'West Ham United', 'SD Eibar',\n",
       "       'River Plate', 'OGC Nice', 'Real Valladolid CF', 'Sporting CP',\n",
       "       'PSV', 'Feyenoord', 'Club Brugge KV', 'Shakhtar Donetsk',\n",
       "       'Vissel Kobe', 'Boca Juniors', '1. FC Union Berlin',\n",
       "       'Dalian YiFang FC', 'AS Saint-Étienne', 'Sassuolo',\n",
       "       'Tigres U.A.N.L.', 'Dinamo Zagreb', 'Dynamo Kyiv', 'Fluminense',\n",
       "       'Udinese', 'Aston Villa', 'Stade Rennais FC', 'Beşiktaş JK',\n",
       "       'Brighton & Hove Albion', 'Hebei China Fortune FC', 'Southampton',\n",
       "       'Lokomotiv Moscow', 'Jiangsu Suning FC', 'Al Hilal',\n",
       "       'West Bromwich Albion', 'Fenerbahçe SK', 'FC Groningen',\n",
       "       'Guangzhou R&F FC', 'Orlando City SC', 'Sampdoria',\n",
       "       'Stade de Reims', 'Sheffield United', 'Santos', 'Internacional',\n",
       "       'Coritiba', 'CA Osasuna', 'LA Galaxy', 'Al Nassr', 'SC Freiburg',\n",
       "       'SC Braga', 'Olympiacos CFP', 'Toronto FC', 'Granada CF',\n",
       "       'FC Schalke 04', 'RC Strasbourg Alsace', 'Hertha BSC',\n",
       "       'AZ Alkmaar', 'Seattle Sounders FC', 'Montpellier HSC',\n",
       "       'Shanghai Greenland Shenhua FC', 'Hamburger SV', 'Girona FC',\n",
       "       'Racing Club', 'Portland Timbers', 'FC Girondins de Bordeaux',\n",
       "       'Watford', 'Estudiantes de La Plata', 'Club América',\n",
       "       'Vitória Guimarães', 'SK Slavia Praha', 'Trabzonspor',\n",
       "       'RCD Espanyol', 'FC Nantes', 'Angers SCO', 'Cruz Azul',\n",
       "       'BSC Young Boys', 'Club León', 'Spartak Moscow', 'Sivasspor',\n",
       "       'Elche CF', 'FC Augsburg', 'Wuhan Zall', 'Parma',\n",
       "       'Royal Antwerp FC', 'Monterrey', 'San Lorenzo de Almagro',\n",
       "       'AC Monza', 'Club Atlético Lanús', 'SD Huesca', 'Derby County',\n",
       "       'Kayserispor', 'RSC Anderlecht', 'CD Leganés', 'Vélez Sarsfield',\n",
       "       'Stade Brestois 29', 'Tianjin TEDA FC', 'Birmingham City',\n",
       "       'Hellas Verona', '1. FC Köln', 'Al Wehda', 'Bournemouth',\n",
       "       'Alanyaspor', 'Bologna', 'Amiens SC', 'Celtic',\n",
       "       'Shijiazhuang Ever Bright F.C.', 'Club Atlas', 'Al Ahli',\n",
       "       'Norwich City', 'Fatih Karagümrük S.K.', 'Club Tijuana',\n",
       "       'Universidad Católica', 'Goiás', 'Benevento', 'Independiente',\n",
       "       'Qingdao Huanghai F.C.', 'Brentford', 'AEK Athens',\n",
       "       'Racing Club de Lens', 'Olimpia Asunción', 'Shenzhen FC',\n",
       "       'Çaykur Rizespor', 'KAA Gent', 'New England Revolution',\n",
       "       'Cádiz CF', '1. FSV Mainz 05', 'Vasco da Gama', 'FC Midtjylland',\n",
       "       'Al Ain FC', 'Santos Laguna', 'SPAL', 'Perth Glory', 'FC Utrecht',\n",
       "       'Montreal Impact', 'UD Almería', 'Fortaleza', 'Spezia',\n",
       "       'FC Basel 1893', 'FC København', 'Godoy Cruz', 'Deportivo Toluca',\n",
       "       'Nacional de Montevideo', 'Aalborg BK', 'Rio Ave FC', 'FC Metz',\n",
       "       'Chongqing Dangdai Lifan FC SWM Team', 'Rosenborg BK',\n",
       "       'FC Red Bull Salzburg', 'Botafogo', 'DSC Arminia Bielefeld',\n",
       "       'Club Athletico Paranaense', 'RCD Mallorca', 'Pachuca',\n",
       "       'Swansea City', 'KRC Genk', 'En Avant de Guingamp', 'Lecce',\n",
       "       'Nîmes Olympique', 'Colo-Colo', 'Stade Malherbe Caen',\n",
       "       'Columbus Crew SC', 'Junior FC', 'VfB Stuttgart', 'Moreirense FC',\n",
       "       'Rangers FC', 'Malmö FF', 'Shandong Luneng TaiShan FC',\n",
       "       'Sparta Praha', 'Hatayspor', 'Chicago Fire',\n",
       "       'Toulouse Football Club', 'FC Seoul', 'Antalyaspor',\n",
       "       'Deportivo Cali', 'Kaizer Chiefs', 'Real Zaragoza',\n",
       "       'Atlético Clube Goianiense', 'Puebla FC', 'Fortuna Düsseldorf',\n",
       "       'Western United FC', 'Astra Giurgiu', 'Henan Jianye FC', 'Bahia',\n",
       "       'Famalicão', 'Atiker Konyaspor', 'Peñarol', 'DC United',\n",
       "       'New York City FC', 'Argentinos Juniors', 'U.N.A.M.',\n",
       "       'Minnesota United FC', 'Nottingham Forest',\n",
       "       'Independiente del Valle', 'Defensa y Justicia',\n",
       "       'Philadelphia Union', \"Newell's Old Boys\", 'Rosario Central',\n",
       "       'Atlético de San Luis', 'FC Dallas', 'Denizlispor',\n",
       "       'Yeni Malatyaspor', 'Club Atlético Colón', 'Houston Dynamo',\n",
       "       'Millwall', 'Clube Sport Marítimo', 'MKE Ankaragücü',\n",
       "       'Guadalajara', 'Boavista FC', 'Sporting Kansas City',\n",
       "       'Atlético Nacional', 'CD Lugo', 'New York Red Bulls', 'PAOK',\n",
       "       'SC Heerenveen', 'Daegu FC', 'Preston North End', 'Damac FC',\n",
       "       'Brescia', 'VfL Bochum 1848', 'Vancouver Whitecaps FC',\n",
       "       'SV Sandhausen', 'Royal Excel Mouscron', 'Dijon FCO', 'Molde FK',\n",
       "       'Panathinaikos FC', 'LASK Linz', 'Ulsan Hyundai FC',\n",
       "       'Real Salt Lake', 'FC Luzern', 'Viktoria Plzeň', 'Orlando Pirates',\n",
       "       'Al Ittihad', '1. FC Nürnberg', 'Standard de Liège',\n",
       "       'Rayo Vallecano', 'Club Libertad', 'Jeonbuk Hyundai Motors',\n",
       "       'Western Sydney Wanderers', 'Unión de Santa Fe', 'FC Sion',\n",
       "       'Sydney FC', 'Hannover 96', 'Real Sporting de Gijón',\n",
       "       'FC Cincinnati', 'ESTAC Troyes', 'San Jose Earthquakes',\n",
       "       'Club Guaraní', 'FC Lorient', 'Gençlerbirliği SK',\n",
       "       'Sporting de Charleroi', 'Wisła Kraków', 'Al Taawoun', 'Reading',\n",
       "       'Gazişehir Gaziantep F.K.', 'Blackburn Rovers', 'Kashiwa Reysol',\n",
       "       'FK Bodø/Glimt', 'Willem II', 'Vitesse', 'Gil Vicente FC',\n",
       "       'SønderjyskE', 'Yokohama F. Marinos', 'FC St. Gallen',\n",
       "       'Club Atlético Aldosivi', 'Göztepe SK', 'Holstein Kiel',\n",
       "       'FC Juárez', 'FCSB (Steaua)', 'Ettifaq FC', 'KAS Eupen',\n",
       "       'FC Tokyo', 'Melbourne City FC', 'Universitatea Craiova',\n",
       "       'CD Tondela', 'Wolfsberger AC', 'Ceará Sporting Club',\n",
       "       'River Plate Asunción', 'Stoke City', 'Paris FC', 'IFK Norrköping',\n",
       "       'Crotone', 'Cardiff City', 'América de Cali', 'Al Faisaly',\n",
       "       'Independiente Medellín', 'Portimonense SC', 'CD Tenerife',\n",
       "       'Heracles Almelo', 'Nashville SC', 'SK Rapid Wien',\n",
       "       'Kawasaki Frontale', 'Club Necaxa', 'Chievo Verona', 'Lech Poznań',\n",
       "       'AIK', 'FK Austria Wien', 'Querétaro', '1. FC Heidenheim 1846',\n",
       "       'Legia Warszawa', 'Club Atlético Banfield', 'Os Belenenses',\n",
       "       'Huddersfield Town', 'KSV Cercle Brugge', 'LDU Quito',\n",
       "       'Gimnasia y Esgrima La Plata', 'Gamba Osaka', 'Middlesbrough',\n",
       "       'Servette FC', 'Empoli', 'Real Oviedo', 'Kasimpaşa SK', 'CFR Cluj',\n",
       "       'Millonarios FC', 'FC Paços de Ferreira', 'Sint-Truidense VV',\n",
       "       'AD Alcorcón', 'Colorado Rapids', 'Dinamo Bucureşti',\n",
       "       'Cerezo Osaka', 'FC Emmen', 'Sheffield Wednesday',\n",
       "       'FC Erzgebirge Aue', 'Raków Częstochowa', 'Atlético Tucumán',\n",
       "       'SV Darmstadt 98', 'Bristol City', 'Oud-Heverlee Leuven',\n",
       "       'Barnsley', 'Queens Park Rangers', 'Sangju Sangmu FC',\n",
       "       'Helsingborgs IF', 'AC Ajaccio', 'Oceânico FC',\n",
       "       'Club Atlético Talleres', 'Al Hazem', 'SC Paderborn 07',\n",
       "       'Club Atlético Huracán', 'KV Kortrijk', 'El Nacional',\n",
       "       'Mazatlán FC', 'Aberdeen', 'CD Mirandés', 'SV Zulte-Waregem',\n",
       "       'Piast Gliwice', 'Djurgårdens IF', 'Central Córdoba',\n",
       "       'Wellington Phoenix', 'Deportivo Binacional', 'Patronato',\n",
       "       'SpVgg Greuther Fürth', 'IFK Göteborg', 'FC Cartagena',\n",
       "       'Santa Clara', 'FC Twente', 'Farense', 'ADO Den Haag',\n",
       "       'AJ Auxerre', 'Al Fateh', 'Valenciennes FC',\n",
       "       'Hokkaido Consadole Sapporo', 'FC St. Pauli', 'Albacete BP',\n",
       "       '1. FC Kaiserslautern', 'Al Fayha', 'Incheon United FC',\n",
       "       'KV Mechelen', 'Pohang Steelers', 'CD Nacional', 'Unión La Calera',\n",
       "       'BB Erzurumspor', 'Kashima Antlers', 'Arsenal de Sarandí',\n",
       "       'HJK Helsinki', 'Karlsruher SC', 'Aarhus GF', 'FC Zürich',\n",
       "       'Barcelona Sporting Club', 'SG Dynamo Dresden',\n",
       "       'Sanfrecce Hiroshima', 'Al Raed', 'SD Ponferradina', 'Brøndby IF',\n",
       "       'Lechia Gdańsk', 'FC Viitorul', 'SK Sturm Graz', 'IF Elfsborg',\n",
       "       'Gangwon FC', 'Melgar FBC', 'Club Atlético Grau',\n",
       "       'Jagiellonia Białystok', 'Waasland-Beveren', 'VfL Osnabrück',\n",
       "       'Nagoya Grampus', 'CF Fuenlabrada', 'Shamrock Rovers',\n",
       "       'Shimizu S-Pulse', 'RKC Waalwijk', 'Vålerenga Fotball',\n",
       "       'Clermont Foot 63', 'FC Ingolstadt 04', 'FC Würzburger Kickers',\n",
       "       'Górnik Zabrze', 'Charlton Athletic', 'Beerschot AC',\n",
       "       'Coquimbo Unido', 'Viktoria Köln', 'Hull City', 'Málaga CF',\n",
       "       'FC Nordsjælland', 'UD Las Palmas', 'VVV-Venlo', 'GwangJu FC',\n",
       "       'Chamois Niortais Football Club', 'FC Lugano', 'Cusco FC',\n",
       "       'Sparta Rotterdam', 'Sol de América', 'PEC Zwolle',\n",
       "       'Pogoń Szczecin', 'Doncaster Rovers', 'Kristiansund BK',\n",
       "       'Liverpool Fútbol Club', 'Club Bolívar', 'Urawa Red Diamonds',\n",
       "       'SK Brann', 'Eintracht Braunschweig', 'Nacional Asunción',\n",
       "       'Melbourne Victory', 'Kilmarnock', 'Dundalk',\n",
       "       'SSV Jahn Regensburg', 'Abha Club', 'Club Atlético Tigre',\n",
       "       'Suwon Samsung Bluewings', 'Shonan Bellmare', 'SD Aucas', 'Emelec',\n",
       "       'Fortuna Sittard', 'La Berrichonne de Châteauroux',\n",
       "       'Śląsk Wrocław', 'Coventry City', 'Sunderland', 'Alianza Lima',\n",
       "       'Hammarby IF', 'Cracovia', 'CE Sabadell FC', 'Oita Trinita',\n",
       "       'BK Häcken', 'Luton Town', 'Le Havre AC', 'IK Sirius',\n",
       "       'Zagłębie Lubin', 'Grenoble Foot 38', 'Macarthur FC',\n",
       "       'Rodez Aveyron Football', 'Vegalta Sendai', 'Motherwell',\n",
       "       'SV Wehen Wiesbaden', 'Audax Italiano', 'Gaz Metan Mediaş',\n",
       "       'Portsmouth', 'Hibernian', 'Always Ready', 'UD Logroñés',\n",
       "       'FC Voluntari', 'FC Hermannstadt', 'AS Nancy Lorraine',\n",
       "       'Rotherham United', 'Fleetwood Town', 'Jorge Wilstermann',\n",
       "       'Odense Boldklub', 'MSV Duisburg', 'FC Sochaux-Montbéliard',\n",
       "       'Milton Keynes Dons', 'River Plate Montevideo', 'Delfín SC',\n",
       "       'Universidad Católica del Ecuador', 'Deportivo Pasto',\n",
       "       'KV Oostende', 'Club Plaza Colonia', 'Wigan Athletic',\n",
       "       'FC Botoşani', 'C.D. Castellón', 'SCR Altach', 'Örebro SK',\n",
       "       'TSV Hartberg', 'Stabæk Fotball', 'Wycombe Wanderers',\n",
       "       'St. Johnstone FC', 'Oxford United', 'Lincoln City', 'Randers FC',\n",
       "       'Viking FK', 'FC Chambly Oise', 'Dundee United',\n",
       "       'Oriente Petrolero', 'Odds BK', 'Nacional Potosí', 'Sepsi OSK',\n",
       "       'FC Hansa Rostock', 'Lyngby BK', 'SpVgg Unterhaching',\n",
       "       'Brisbane Roar', 'Seongnam FC', 'SV Ried', 'CD Huachipato',\n",
       "       'WSG Tirol', 'Podbeskidzie Bielsko-Biała', 'Peterborough United',\n",
       "       'Club Blooming', 'Wisła Płock', 'Busan IPark', 'FSV Zwickau',\n",
       "       'Mjøndalen IF', 'Vejle Boldklub', 'Pau FC', 'FC Lausanne-Sport',\n",
       "       'Estudiantes de Mérida', 'Sagan Tosu', 'SV Waldhof Mannheim',\n",
       "       'Sport Huancayo', 'Hallescher FC', 'Kalmar FF', 'St. Mirren',\n",
       "       'SKN St. Pölten', 'Sarpsborg 08 FF', 'Shrewsbury',\n",
       "       'TSV 1860 München', 'SV Meppen', 'Ipswich Town', 'IK Start',\n",
       "       'Adelaide United', 'Stal Mielec', 'Centro Atlético Fénix',\n",
       "       'Newcastle Jets', 'Livingston FC', 'AC Mineros de Guayana',\n",
       "       'AFC Wimbledon', 'Burton Albion', 'Al Adalah', 'Warta Poznań',\n",
       "       'USL Dunkerque', 'Bristol Rovers', 'UTA Arad', 'Östersunds FK',\n",
       "       'Sportivo Luqueño', 'Politehnica Iaşi', 'Salford City',\n",
       "       'Central Coast Mariners', 'Caracas FC', 'AC Horsens',\n",
       "       'Plymouth Argyle', 'Aalesunds FK', 'Crewe Alexandra',\n",
       "       'Chindia Târgovişte', 'Oldham Athletic', 'Yokohama FC',\n",
       "       'Blackpool', 'Northampton Town', 'Bayern München II',\n",
       "       'FK Haugesund', 'KFC Uerdingen 05', 'Forest Green Rovers',\n",
       "       'Cheltenham Town', 'Strømsgodset IF', 'Mjällby AIF', 'Exeter City',\n",
       "       'Cambridge United', 'Grimsby Town', 'FC Vaduz', 'Türkgücü München',\n",
       "       'VfB Lübeck', 'Bolton Wanderers', 'Bradford City',\n",
       "       '1. FC Magdeburg', 'FC Admira Wacker Mödling',\n",
       "       'Hamilton Academical FC', 'Aragua FC', 'Accrington Stanley',\n",
       "       'Swindon Town', 'Carlisle United', 'FC Argeș', 'Port Vale',\n",
       "       'Academica Clinceni', 'Rochdale', 'Gillingham', 'Tranmere Rovers',\n",
       "       'Southend United', '1. FC Saarbrücken', 'Colchester United',\n",
       "       'Mansfield Town', 'Falkenbergs FF', 'SC Verl', 'Varbergs BoIS',\n",
       "       'Crawley Town', 'Sandefjord Fotball', 'Newport County',\n",
       "       'Bohemian FC', 'Ross County FC', 'Scunthorpe United', 'Morecambe',\n",
       "       'Walsall', 'Leyton Orient', 'Stevenage', 'Barrow', 'Derry City',\n",
       "       'Llaneros de Guanare', 'Sligo Rovers', 'Zamora FC',\n",
       "       \"St. Patrick's Athletic\", 'Cork City', 'Shelbourne FC',\n",
       "       'Harrogate Town', 'Waterford FC', 'Finn Harps'], dtype=object)"
      ]
     },
     "execution_count": 18,
     "metadata": {},
     "output_type": "execute_result"
    }
   ],
   "source": [
    "# remove \\n from club name\n",
    "fifa21.Club = fifa21.Club.str.strip('\\n')\n",
    "fifa21.Club.unique()"
   ]
  },
  {
   "cell_type": "markdown",
   "id": "4e7f5889",
   "metadata": {},
   "source": [
    "## Positions and Best_Position column"
   ]
  },
  {
   "cell_type": "code",
   "execution_count": 19,
   "id": "745e3c45",
   "metadata": {},
   "outputs": [
    {
     "data": {
      "text/plain": [
       "0        RW, ST, CF\n",
       "1            ST, LW\n",
       "2                GK\n",
       "3           CAM, CM\n",
       "4           LW, CAM\n",
       "            ...    \n",
       "18974            CB\n",
       "18975            CM\n",
       "18976            CM\n",
       "18977            RW\n",
       "18978        CB, LB\n",
       "Name: Positions, Length: 18979, dtype: object"
      ]
     },
     "execution_count": 19,
     "metadata": {},
     "output_type": "execute_result"
    }
   ],
   "source": [
    "#view column\n",
    "fifa21.Positions"
   ]
  },
  {
   "cell_type": "code",
   "execution_count": 20,
   "id": "6199de6b",
   "metadata": {},
   "outputs": [
    {
     "data": {
      "text/plain": [
       "0         RW\n",
       "1         ST\n",
       "2         GK\n",
       "3        CAM\n",
       "4         LW\n",
       "        ... \n",
       "18974     CB\n",
       "18975    CAM\n",
       "18976    CAM\n",
       "18977     ST\n",
       "18978     LB\n",
       "Name: Best_Position, Length: 18979, dtype: object"
      ]
     },
     "execution_count": 20,
     "metadata": {},
     "output_type": "execute_result"
    }
   ],
   "source": [
    "#view column\n",
    "fifa21.Best_Position"
   ]
  },
  {
   "cell_type": "markdown",
   "id": "fcf90ecb",
   "metadata": {},
   "source": [
    "**Observation**\n",
    "\n",
    "\n",
    "- Positions has different possible positions played by the player while Best_Position has the best. I think Best_Position is what is most important therefore I will drop the position column after creating another column to represent no of position."
   ]
  },
  {
   "cell_type": "code",
   "execution_count": 21,
   "id": "14ed73f5",
   "metadata": {},
   "outputs": [
    {
     "data": {
      "text/plain": [
       "0        RW, ST, CF\n",
       "1            ST, LW\n",
       "2                GK\n",
       "3           CAM, CM\n",
       "4           LW, CAM\n",
       "            ...    \n",
       "18974            CB\n",
       "18975            CM\n",
       "18976            CM\n",
       "18977            RW\n",
       "18978        CB, LB\n",
       "Name: Positions, Length: 18979, dtype: object"
      ]
     },
     "execution_count": 21,
     "metadata": {},
     "output_type": "execute_result"
    }
   ],
   "source": [
    "#take of any possible whitespace\n",
    "fifa21.Positions.str.strip(\"\")"
   ]
  },
  {
   "cell_type": "code",
   "execution_count": 22,
   "id": "8395c8c2",
   "metadata": {},
   "outputs": [],
   "source": [
    "# find number of positions played\n",
    "def num_positions(y):\n",
    "    for x in y:   \n",
    "        z = y.split(',')\n",
    "        number = len(z)\n",
    "    return number"
   ]
  },
  {
   "cell_type": "code",
   "execution_count": 23,
   "id": "3eeb3ef8",
   "metadata": {},
   "outputs": [],
   "source": [
    "#apply function, create and fill new column\n",
    "outcome = fifa21.Positions.apply(num_positions)\n",
    "Num_Of_Positions = list(outcome) #convert the outcome to a list to add to fifa21 \n",
    "fifa21['Num_Of_Positions'] = Num_Of_Positions"
   ]
  },
  {
   "cell_type": "code",
   "execution_count": 24,
   "id": "8d4b9753",
   "metadata": {},
   "outputs": [
    {
     "data": {
      "text/plain": [
       "0        3\n",
       "1        2\n",
       "2        1\n",
       "3        2\n",
       "4        2\n",
       "        ..\n",
       "18974    1\n",
       "18975    1\n",
       "18976    1\n",
       "18977    1\n",
       "18978    2\n",
       "Name: Num_Of_Positions, Length: 18979, dtype: int64"
      ]
     },
     "execution_count": 24,
     "metadata": {},
     "output_type": "execute_result"
    }
   ],
   "source": [
    "#Test\n",
    "fifa21['Num_Of_Positions']"
   ]
  },
  {
   "cell_type": "code",
   "execution_count": 25,
   "id": "0b0ff6cc",
   "metadata": {},
   "outputs": [],
   "source": [
    "#drop positions column\n",
    "fifa21 = fifa21.drop('Positions', axis=1)"
   ]
  },
  {
   "cell_type": "code",
   "execution_count": 26,
   "id": "03732536",
   "metadata": {},
   "outputs": [
    {
     "data": {
      "text/plain": [
       "Index(['ID', 'Name', 'Long_Name', 'Photo_Url', 'Player_Url', 'Nationality',\n",
       "       'Age', 'OVA', 'POT', 'Club', 'Contract', 'Height', 'Weight',\n",
       "       'Preferred_Foot', 'BOV', 'Best_Position', 'Joined', 'Loan_Date_End',\n",
       "       'Value', 'Wage', 'Release_Clause', 'Attacking', 'Crossing', 'Finishing',\n",
       "       'Heading_Accuracy', 'Short_Passing', 'Volleys', 'Skill', 'Dribbling',\n",
       "       'Curve', 'FK_Accuracy', 'Long_Passing', 'Ball_Control', 'Movement',\n",
       "       'Acceleration', 'Sprint_Speed', 'Agility', 'Reactions', 'Balance',\n",
       "       'Power', 'Shot_Power', 'Jumping', 'Stamina', 'Strength', 'Long_Shots',\n",
       "       'Mentality', 'Aggression', 'Interceptions', 'Positioning', 'Vision',\n",
       "       'Penalties', 'Composure', 'Defending', 'Marking', 'Standing_Tackle',\n",
       "       'Sliding_Tackle', 'Goal_Keeping', 'GK_Diving', 'GK_Handling',\n",
       "       'GK_Kicking', 'GK_Positioning', 'GK_Reflexes', 'Total_Stats',\n",
       "       'Base_Stats', 'W/F', 'SM', 'A/W', 'D/W', 'IR', 'PAC', 'SHO', 'PAS',\n",
       "       'DRI', 'DEF', 'PHY', 'Hits', 'Num_Of_Positions'],\n",
       "      dtype='object')"
      ]
     },
     "execution_count": 26,
     "metadata": {},
     "output_type": "execute_result"
    }
   ],
   "source": [
    "#Test\n",
    "fifa21.columns"
   ]
  },
  {
   "cell_type": "markdown",
   "id": "a6f0abf0",
   "metadata": {},
   "source": [
    "## Weight and Height column"
   ]
  },
  {
   "cell_type": "code",
   "execution_count": 27,
   "id": "c0e8343d",
   "metadata": {},
   "outputs": [
    {
     "name": "stdout",
     "output_type": "stream",
     "text": [
      "['72kg' '83kg' '87kg' '70kg' '68kg' '80kg' '71kg' '91kg' '73kg' '85kg'\n",
      " '92kg' '69kg' '84kg' '96kg' '81kg' '82kg' '75kg' '86kg' '89kg' '74kg'\n",
      " '76kg' '64kg' '78kg' '90kg' '66kg' '60kg' '94kg' '79kg' '67kg' '65kg'\n",
      " '59kg' '61kg' '93kg' '88kg' '97kg' '77kg' '62kg' '63kg' '95kg' '100kg'\n",
      " '58kg' '183lbs' '179lbs' '172lbs' '196lbs' '176lbs' '185lbs' '170lbs'\n",
      " '203lbs' '168lbs' '161lbs' '146lbs' '130lbs' '190lbs' '174lbs' '148lbs'\n",
      " '165lbs' '159lbs' '192lbs' '181lbs' '139lbs' '154lbs' '157lbs' '163lbs'\n",
      " '98kg' '103kg' '99kg' '102kg' '56kg' '101kg' '57kg' '55kg' '104kg'\n",
      " '107kg' '110kg' '53kg' '50kg' '54kg' '52kg']\n",
      "\n",
      "['170cm' '187cm' '188cm' '181cm' '175cm' '184cm' '191cm' '178cm' '193cm'\n",
      " '185cm' '199cm' '173cm' '168cm' '176cm' '177cm' '183cm' '180cm' '189cm'\n",
      " '179cm' '195cm' '172cm' '182cm' '186cm' '192cm' '165cm' '194cm' '167cm'\n",
      " '196cm' '163cm' '190cm' '174cm' '169cm' '171cm' '197cm' '200cm' '166cm'\n",
      " '6\\'2\"' '164cm' '198cm' '6\\'3\"' '6\\'5\"' '5\\'11\"' '6\\'4\"' '6\\'1\"' '6\\'0\"'\n",
      " '5\\'10\"' '5\\'9\"' '5\\'6\"' '5\\'7\"' '5\\'4\"' '201cm' '158cm' '162cm' '161cm'\n",
      " '160cm' '203cm' '157cm' '156cm' '202cm' '159cm' '206cm' '155cm']\n"
     ]
    }
   ],
   "source": [
    "#identify unique entries\n",
    "print(fifa21.Weight.unique())\n",
    "print()\n",
    "print(fifa21.Height.unique())"
   ]
  },
  {
   "cell_type": "markdown",
   "id": "acea76a5",
   "metadata": {},
   "source": [
    "**Observation**\n",
    "- Inconsistent unit of Measurement for both columns"
   ]
  },
  {
   "cell_type": "code",
   "execution_count": 28,
   "id": "b5f4b8d6",
   "metadata": {},
   "outputs": [],
   "source": [
    "# change unit of weight to lbs\n",
    "def Weight_converter (y):\n",
    "    for x in y:\n",
    "        if 'kg' in y:\n",
    "            num = y[:-2] #takes out the last 2 index which is kg\n",
    "            new_num = float(num)*2.2\n",
    "            return float(new_num)#converts output to float\n",
    "        else: \n",
    "            z = y.replace('lbs', '')\n",
    "            num2 = z #takes out lbs\n",
    "            return float(num2)\n",
    "            "
   ]
  },
  {
   "cell_type": "code",
   "execution_count": 29,
   "id": "546f7c5b",
   "metadata": {},
   "outputs": [],
   "source": [
    "#apply function\n",
    "#fifa21.Weight = fifa21.Weight.astype('str')\n",
    "fifa21.Weight = fifa21.Weight.apply(Weight_converter)"
   ]
  },
  {
   "cell_type": "code",
   "execution_count": 30,
   "id": "c6669a47",
   "metadata": {},
   "outputs": [],
   "source": [
    "# change unit of height to cm\n",
    "def Height_converter (y):\n",
    "        if y[1]== \"'\":\n",
    "            feet = float(y[0])*12 #convert feet to inches.\n",
    "            y = y.replace('\\\"', '')\n",
    "            inches = float(feet) + float(y[2:]) #add both inch\n",
    "            cm = round((float (inches) * 2.54), 2) # convert inch to cm in 2 dp\n",
    "            return float(cm)\n",
    "        else:\n",
    "            num = y[:-2] #takes out cm\n",
    "            return float(num)"
   ]
  },
  {
   "cell_type": "code",
   "execution_count": 31,
   "id": "4d70f42d",
   "metadata": {},
   "outputs": [],
   "source": [
    "#apply function\n",
    "fifa21.Height = fifa21.Height.apply(Height_converter)"
   ]
  },
  {
   "cell_type": "code",
   "execution_count": 32,
   "id": "615213ef",
   "metadata": {},
   "outputs": [],
   "source": [
    "# change their names to Weight_lbs and Height_cm respectively\n",
    "fifa21 = fifa21.rename(columns = {'Weight':'Weight_lbs', 'Height':'Height_cm'})"
   ]
  },
  {
   "cell_type": "code",
   "execution_count": 33,
   "id": "f88f19ee",
   "metadata": {},
   "outputs": [
    {
     "name": "stdout",
     "output_type": "stream",
     "text": [
      "[158.4 182.6 191.4 154.  149.6 176.  156.2 200.2 160.6 187.  202.4 151.8\n",
      " 184.8 211.2 178.2 180.4 165.  189.2 195.8 162.8 167.2 140.8 171.6 198.\n",
      " 145.2 132.  206.8 173.8 147.4 143.  129.8 134.2 204.6 193.6 213.4 169.4\n",
      " 136.4 138.6 209.  220.  127.6 183.  179.  172.  196.  185.  170.  203.\n",
      " 168.  161.  146.  130.  190.  174.  148.  159.  192.  181.  139.  157.\n",
      " 163.  215.6 226.6 217.8 224.4 123.2 222.2 125.4 121.  228.8 235.4 242.\n",
      " 116.6 110.  118.8 114.4]\n",
      "\n",
      "[170.   187.   188.   181.   175.   184.   191.   178.   193.   185.\n",
      " 199.   173.   168.   176.   177.   183.   180.   189.   179.   195.\n",
      " 172.   182.   186.   192.   165.   194.   167.   196.   163.   190.\n",
      " 174.   169.   171.   197.   200.   166.   187.96 164.   198.   190.5\n",
      " 195.58 180.34 193.04 185.42 182.88 177.8  175.26 167.64 170.18 162.56\n",
      " 201.   158.   162.   161.   160.   203.   157.   156.   202.   159.\n",
      " 206.   155.  ]\n"
     ]
    }
   ],
   "source": [
    "#Test\n",
    "print(fifa21.Weight_lbs.unique())\n",
    "print()\n",
    "print(fifa21.Height_cm.unique())"
   ]
  },
  {
   "cell_type": "markdown",
   "id": "51437839",
   "metadata": {},
   "source": [
    "## Value, Wage and Release_clause columns"
   ]
  },
  {
   "cell_type": "code",
   "execution_count": 34,
   "id": "01a1d13b",
   "metadata": {},
   "outputs": [
    {
     "data": {
      "text/plain": [
       "array(['€103.5M', '€63M', '€120M', '€129M', '€132M', '€111M', '€120.5M',\n",
       "       '€102M', '€185.5M', '€110M', '€113M', '€90.5M', '€82M', '€17.5M',\n",
       "       '€83.5M', '€33.5M', '€114.5M', '€78M', '€103M', '€109M', '€92M',\n",
       "       '€10M', '€76.5M', '€89.5M', '€87.5M', '€79.5M', '€124M', '€114M',\n",
       "       '€95M', '€92.5M', '€105.5M', '€88.5M', '€85M', '€81.5M', '€26M',\n",
       "       '€21M', '€56M', '€67.5M', '€53M', '€36.5M', '€51M', '€65.5M',\n",
       "       '€46.5M', '€61.5M', '€72.5M', '€77.5M', '€43.5M', '€32.5M', '€36M',\n",
       "       '€32M', '€54M', '€49.5M', '€57M', '€66.5M', '€74.5M', '€71.5M',\n",
       "       '€121M', '€99M', '€67M', '€86.5M', '€93.5M', '€70M', '€62M',\n",
       "       '€66M', '€58M', '€44M', '€81M', '€37M', '€14.5M', '€46M', '€47.5M',\n",
       "       '€52.5M', '€54.5M', '€34.5M', '€57.5M', '€51.5M', '€44.5M', '€55M',\n",
       "       '€48M', '€60.5M', '€63.5M', '€61M', '€29M', '€58.5M', '€55.5M',\n",
       "       '€42M', '€40.5M', '€43M', '€45.5M', '€34M', '€26.5M', '€42.5M',\n",
       "       '€35.5M', '€45M', '€41.5M', '€40M', '€11M', '€13.5M', '€29.5M',\n",
       "       '€27M', '€15.5M', '€38.5M', '€52M', '€33M', '€19M', '€73.5M',\n",
       "       '€38M', '€35M', '€47M', '€24M', '€30.5M', '€18M', '€28M', '€25.5M',\n",
       "       '€25M', '€31M', '€23.5M', '€30M', '€31.5M', '€22.5M', '€28.5M',\n",
       "       '€4M', '€12.5M', '€37.5M', '€27.5M', '€16M', '€15M', '€20.5M',\n",
       "       '€22M', '€3.4M', '€5M', '€56.5M', '€62.5M', '€0', '€39M', '€24.5M',\n",
       "       '€21.5M', '€13M', '€8M', '€20M', '€8.5M', '€2.9M', '€9M', '€4.6M',\n",
       "       '€50M', '€23M', '€18.5M', '€7M', '€19.5M', '€5.5M', '€7.5M',\n",
       "       '€3.8M', '€14M', '€10.5M', '€16.5M', '€3.6M', '€9.5M', '€39.5M',\n",
       "       '€17M', '€12M', '€11.5M', '€4.9M', '€3M', '€1.9M', '€6.5M',\n",
       "       '€1.7M', '€2.4M', '€3.1M', '€6M', '€3.7M', '€4.7M', '€4.3M',\n",
       "       '€2.1M', '€1.2M', '€1.8M', '€4.8M', '€3.2M', '€1.3M', '€825K',\n",
       "       '€2.3M', '€1.5M', '€3.9M', '€2.6M', '€3.5M', '€2.8M', '€2.7M',\n",
       "       '€4.4M', '€4.1M', '€950K', '€1.6M', '€625K', '€1.1M', '€4.5M',\n",
       "       '€4.2M', '€2.2M', '€3.3M', '€1.4M', '€2M', '€475K', '€925K',\n",
       "       '€750K', '€725K', '€2.5M', '€1M', '€350K', '€525K', '€600K',\n",
       "       '€850K', '€800K', '€550K', '€250K', '€400K', '€425K', '€575K',\n",
       "       '€210K', '€325K', '€900K', '€875K', '€650K', '€700K', '€500K',\n",
       "       '€975K', '€375K', '€775K', '€275K', '€180K', '€450K', '€675K',\n",
       "       '€150K', '€240K', '€300K', '€130K', '€220K', '€200K', '€110K',\n",
       "       '€170K', '€230K', '€90K', '€120K', '€80K', '€190K', '€140K',\n",
       "       '€160K', '€100K', '€60K', '€50K', '€70K', '€45K', '€35K', '€40K',\n",
       "       '€25K', '€20K', '€15K', '€30K', '€9K'], dtype=object)"
      ]
     },
     "execution_count": 34,
     "metadata": {},
     "output_type": "execute_result"
    }
   ],
   "source": [
    "#identify unique entries\n",
    "fifa21.Value.unique()"
   ]
  },
  {
   "cell_type": "code",
   "execution_count": 35,
   "id": "5d3e8a7f",
   "metadata": {},
   "outputs": [
    {
     "data": {
      "text/plain": [
       "array(['€560K', '€220K', '€125K', '€370K', '€270K', '€240K', '€250K',\n",
       "       '€160K', '€260K', '€210K', '€310K', '€130K', '€350K', '€300K',\n",
       "       '€190K', '€145K', '€195K', '€100K', '€140K', '€290K', '€82K',\n",
       "       '€110K', '€230K', '€155K', '€200K', '€165K', '€95K', '€170K',\n",
       "       '€105K', '€115K', '€150K', '€135K', '€55K', '€58K', '€81K', '€34K',\n",
       "       '€120K', '€59K', '€90K', '€65K', '€56K', '€71K', '€18K', '€75K',\n",
       "       '€47K', '€20K', '€84K', '€86K', '€74K', '€78K', '€27K', '€68K',\n",
       "       '€85K', '€25K', '€46K', '€83K', '€54K', '€79K', '€175K', '€43K',\n",
       "       '€49K', '€45K', '€38K', '€41K', '€39K', '€23K', '€51K', '€50K',\n",
       "       '€87K', '€30K', '€14K', '€69K', '€31K', '€64K', '€53K', '€35K',\n",
       "       '€21K', '€28K', '€17K', '€33K', '€70K', '€32K', '€89K', '€26K',\n",
       "       '€40K', '€76K', '€72K', '€48K', '€36K', '€29K', '€60K', '€16K',\n",
       "       '€37K', '€24K', '€52K', '€0', '€62K', '€73K', '€63K', '€19K',\n",
       "       '€1K', '€66K', '€80K', '€12K', '€2K', '€42K', '€13K', '€900',\n",
       "       '€57K', '€77K', '€61K', '€22K', '€67K', '€44K', '€15K', '€11K',\n",
       "       '€8K', '€850', '€10K', '€88K', '€500', '€7K', '€6K', '€9K', '€5K',\n",
       "       '€700', '€950', '€750', '€3K', '€650', '€600', '€4K', '€800',\n",
       "       '€550'], dtype=object)"
      ]
     },
     "execution_count": 35,
     "metadata": {},
     "output_type": "execute_result"
    }
   ],
   "source": [
    "#identify unique entries\n",
    "fifa21.Wage.unique()"
   ]
  },
  {
   "cell_type": "code",
   "execution_count": 36,
   "id": "51e53b01",
   "metadata": {},
   "outputs": [
    {
     "data": {
      "text/plain": [
       "array(['€138.4M', '€75.9M', '€159.4M', ..., '€59K', '€35K', '€64K'],\n",
       "      dtype=object)"
      ]
     },
     "execution_count": 36,
     "metadata": {},
     "output_type": "execute_result"
    }
   ],
   "source": [
    "#identify unique entries\n",
    "fifa21.Release_Clause.unique()"
   ]
  },
  {
   "cell_type": "markdown",
   "id": "53e7a4ff",
   "metadata": {},
   "source": [
    "**Observation**\n",
    "- All currency are in euro\n",
    "- k was used to represent thousand and M million"
   ]
  },
  {
   "cell_type": "code",
   "execution_count": 37,
   "id": "16391c69",
   "metadata": {},
   "outputs": [],
   "source": [
    "# convert k and M to their full form and remove euro sign\n",
    "def converter (y):\n",
    "    y = y[1:]\n",
    "    if 'K' in y:\n",
    "        x = y.replace('K', '')\n",
    "        x = float(x) * 1000\n",
    "        return round(x) \n",
    "    elif \"M\" in y:\n",
    "        x = y.replace('M', '')\n",
    "        x = float(x) * 1000000\n",
    "        return round(x)\n",
    "    else:\n",
    "        return int(y)"
   ]
  },
  {
   "cell_type": "code",
   "execution_count": 38,
   "id": "6ec953ba",
   "metadata": {},
   "outputs": [],
   "source": [
    "#apply function\n",
    "fifa21.Value = fifa21.Value.apply(converter)\n",
    "fifa21.Wage = fifa21.Wage.apply(converter)\n",
    "fifa21.Release_Clause = fifa21.Release_Clause.apply(converter)"
   ]
  },
  {
   "cell_type": "code",
   "execution_count": 39,
   "id": "5ae7d581",
   "metadata": {},
   "outputs": [
    {
     "data": {
      "text/plain": [
       "array([103500000,  63000000, 120000000, 129000000, 132000000, 111000000,\n",
       "       120500000, 102000000, 185500000, 110000000, 113000000,  90500000,\n",
       "        82000000,  17500000,  83500000,  33500000, 114500000,  78000000,\n",
       "       103000000, 109000000,  92000000,  10000000,  76500000,  89500000,\n",
       "        87500000,  79500000, 124000000, 114000000,  95000000,  92500000,\n",
       "       105500000,  88500000,  85000000,  81500000,  26000000,  21000000,\n",
       "        56000000,  67500000,  53000000,  36500000,  51000000,  65500000,\n",
       "        46500000,  61500000,  72500000,  77500000,  43500000,  32500000,\n",
       "        36000000,  32000000,  54000000,  49500000,  57000000,  66500000,\n",
       "        74500000,  71500000, 121000000,  99000000,  67000000,  86500000,\n",
       "        93500000,  70000000,  62000000,  66000000,  58000000,  44000000,\n",
       "        81000000,  37000000,  14500000,  46000000,  47500000,  52500000,\n",
       "        54500000,  34500000,  57500000,  51500000,  44500000,  55000000,\n",
       "        48000000,  60500000,  63500000,  61000000,  29000000,  58500000,\n",
       "        55500000,  42000000,  40500000,  43000000,  45500000,  34000000,\n",
       "        26500000,  42500000,  35500000,  45000000,  41500000,  40000000,\n",
       "        11000000,  13500000,  29500000,  27000000,  15500000,  38500000,\n",
       "        52000000,  33000000,  19000000,  73500000,  38000000,  35000000,\n",
       "        47000000,  24000000,  30500000,  18000000,  28000000,  25500000,\n",
       "        25000000,  31000000,  23500000,  30000000,  31500000,  22500000,\n",
       "        28500000,   4000000,  12500000,  37500000,  27500000,  16000000,\n",
       "        15000000,  20500000,  22000000,   3400000,   5000000,  56500000,\n",
       "        62500000,         0,  39000000,  24500000,  21500000,  13000000,\n",
       "         8000000,  20000000,   8500000,   2900000,   9000000,   4600000,\n",
       "        50000000,  23000000,  18500000,   7000000,  19500000,   5500000,\n",
       "         7500000,   3800000,  14000000,  10500000,  16500000,   3600000,\n",
       "         9500000,  39500000,  17000000,  12000000,  11500000,   4900000,\n",
       "         3000000,   1900000,   6500000,   1700000,   2400000,   3100000,\n",
       "         6000000,   3700000,   4700000,   4300000,   2100000,   1200000,\n",
       "         1800000,   4800000,   3200000,   1300000,    825000,   2300000,\n",
       "         1500000,   3900000,   2600000,   3500000,   2800000,   2700000,\n",
       "         4400000,   4100000,    950000,   1600000,    625000,   1100000,\n",
       "         4500000,   4200000,   2200000,   3300000,   1400000,   2000000,\n",
       "          475000,    925000,    750000,    725000,   2500000,   1000000,\n",
       "          350000,    525000,    600000,    850000,    800000,    550000,\n",
       "          250000,    400000,    425000,    575000,    210000,    325000,\n",
       "          900000,    875000,    650000,    700000,    500000,    975000,\n",
       "          375000,    775000,    275000,    180000,    450000,    675000,\n",
       "          150000,    240000,    300000,    130000,    220000,    200000,\n",
       "          110000,    170000,    230000,     90000,    120000,     80000,\n",
       "          190000,    140000,    160000,    100000,     60000,     50000,\n",
       "           70000,     45000,     35000,     40000,     25000,     20000,\n",
       "           15000,     30000,      9000], dtype=int64)"
      ]
     },
     "execution_count": 39,
     "metadata": {},
     "output_type": "execute_result"
    }
   ],
   "source": [
    "#Test\n",
    "fifa21.Value.unique()"
   ]
  },
  {
   "cell_type": "code",
   "execution_count": 40,
   "id": "88b5b367",
   "metadata": {},
   "outputs": [
    {
     "data": {
      "text/plain": [
       "array([560000, 220000, 125000, 370000, 270000, 240000, 250000, 160000,\n",
       "       260000, 210000, 310000, 130000, 350000, 300000, 190000, 145000,\n",
       "       195000, 100000, 140000, 290000,  82000, 110000, 230000, 155000,\n",
       "       200000, 165000,  95000, 170000, 105000, 115000, 150000, 135000,\n",
       "        55000,  58000,  81000,  34000, 120000,  59000,  90000,  65000,\n",
       "        56000,  71000,  18000,  75000,  47000,  20000,  84000,  86000,\n",
       "        74000,  78000,  27000,  68000,  85000,  25000,  46000,  83000,\n",
       "        54000,  79000, 175000,  43000,  49000,  45000,  38000,  41000,\n",
       "        39000,  23000,  51000,  50000,  87000,  30000,  14000,  69000,\n",
       "        31000,  64000,  53000,  35000,  21000,  28000,  17000,  33000,\n",
       "        70000,  32000,  89000,  26000,  40000,  76000,  72000,  48000,\n",
       "        36000,  29000,  60000,  16000,  37000,  24000,  52000,      0,\n",
       "        62000,  73000,  63000,  19000,   1000,  66000,  80000,  12000,\n",
       "         2000,  42000,  13000,    900,  57000,  77000,  61000,  22000,\n",
       "        67000,  44000,  15000,  11000,   8000,    850,  10000,  88000,\n",
       "          500,   7000,   6000,   9000,   5000,    700,    950,    750,\n",
       "         3000,    650,    600,   4000,    800,    550], dtype=int64)"
      ]
     },
     "execution_count": 40,
     "metadata": {},
     "output_type": "execute_result"
    }
   ],
   "source": [
    "fifa21.Wage.unique()"
   ]
  },
  {
   "cell_type": "code",
   "execution_count": 41,
   "id": "3fc5b29d",
   "metadata": {},
   "outputs": [
    {
     "data": {
      "text/plain": [
       "array([138400000,  75900000, 159400000, ...,     59000,     35000,\n",
       "           64000], dtype=int64)"
      ]
     },
     "execution_count": 41,
     "metadata": {},
     "output_type": "execute_result"
    }
   ],
   "source": [
    "fifa21.Release_Clause.unique()"
   ]
  },
  {
   "cell_type": "markdown",
   "id": "d2ea026c",
   "metadata": {},
   "source": [
    "## W/F, IR and SM columns"
   ]
  },
  {
   "cell_type": "code",
   "execution_count": 42,
   "id": "b4fd5490",
   "metadata": {},
   "outputs": [
    {
     "data": {
      "text/plain": [
       "array(['4 ★', '3 ★', '5 ★', '2 ★', '1 ★'], dtype=object)"
      ]
     },
     "execution_count": 42,
     "metadata": {},
     "output_type": "execute_result"
    }
   ],
   "source": [
    "#identify unique entries\n",
    "fifa21['W/F'].unique()"
   ]
  },
  {
   "cell_type": "code",
   "execution_count": 43,
   "id": "b637a041",
   "metadata": {},
   "outputs": [
    {
     "data": {
      "text/plain": [
       "array(['5 ★', '3 ★', '4 ★', '2 ★', '1 ★'], dtype=object)"
      ]
     },
     "execution_count": 43,
     "metadata": {},
     "output_type": "execute_result"
    }
   ],
   "source": [
    "#identify unique entries\n",
    "fifa21['IR'].unique()"
   ]
  },
  {
   "cell_type": "code",
   "execution_count": 44,
   "id": "0767f91f",
   "metadata": {},
   "outputs": [
    {
     "data": {
      "text/plain": [
       "array(['4★', '5★', '1★', '2★', '3★'], dtype=object)"
      ]
     },
     "execution_count": 44,
     "metadata": {},
     "output_type": "execute_result"
    }
   ],
   "source": [
    "#identify unique entries\n",
    "fifa21['SM'].unique()"
   ]
  },
  {
   "cell_type": "markdown",
   "id": "b570a53e",
   "metadata": {},
   "source": [
    "**Observation**\n",
    "- There is a need to remove the star shape from the column"
   ]
  },
  {
   "cell_type": "code",
   "execution_count": 45,
   "id": "118dd156",
   "metadata": {},
   "outputs": [],
   "source": [
    "def star_remover(y):\n",
    "    y = y.strip('')\n",
    "    rate = y[0]\n",
    "    return rate"
   ]
  },
  {
   "cell_type": "code",
   "execution_count": 46,
   "id": "6bf499f0",
   "metadata": {},
   "outputs": [],
   "source": [
    "#apply function on the columns\n",
    "fifa21['W/F'] = fifa21['W/F'].apply(star_remover)\n",
    "fifa21['IR'] = fifa21['IR'].apply(star_remover)\n",
    "fifa21['SM'] = fifa21['SM'].apply(star_remover)"
   ]
  },
  {
   "cell_type": "code",
   "execution_count": 47,
   "id": "fa9f644d",
   "metadata": {},
   "outputs": [
    {
     "name": "stdout",
     "output_type": "stream",
     "text": [
      "['4' '3' '5' '2' '1']\n",
      "\n",
      "['5' '3' '4' '2' '1']\n",
      "\n",
      "['4' '5' '1' '2' '3']\n"
     ]
    }
   ],
   "source": [
    "#Test\n",
    "print(fifa21['W/F'].unique())\n",
    "print()\n",
    "print(fifa21['IR'].unique())\n",
    "print()\n",
    "print(fifa21['SM'].unique())"
   ]
  },
  {
   "cell_type": "markdown",
   "id": "e9e9f4f0",
   "metadata": {},
   "source": [
    "## Contract column"
   ]
  },
  {
   "cell_type": "code",
   "execution_count": 48,
   "id": "7f7cc694",
   "metadata": {},
   "outputs": [
    {
     "data": {
      "text/plain": [
       "array(['2004 ~ 2021', '2018 ~ 2022', '2014 ~ 2023', '2015 ~ 2023',\n",
       "       '2017 ~ 2022', '2017 ~ 2023', '2018 ~ 2024', '2014 ~ 2022',\n",
       "       '2018 ~ 2023', '2016 ~ 2023', '2013 ~ 2023', '2011 ~ 2023',\n",
       "       '2009 ~ 2022', '2005 ~ 2021', '2011 ~ 2021', '2015 ~ 2022',\n",
       "       '2017 ~ 2024', '2010 ~ 2024', '2012 ~ 2021', '2019 ~ 2024',\n",
       "       '2015 ~ 2024', '2017 ~ 2025', '2020 ~ 2025', '2019 ~ 2023',\n",
       "       '2008 ~ 2023', '2015 ~ 2021', '2020 ~ 2022', '2012 ~ 2022',\n",
       "       '2016 ~ 2025', '2013 ~ 2022', '2011 ~ 2022', '2012 ~ 2024',\n",
       "       '2016 ~ 2021', '2012 ~ 2023', '2008 ~ 2022', '2019 ~ 2022',\n",
       "       '2017 ~ 2021', '2013 ~ 2024', '2020 ~ 2024', '2010 ~ 2022',\n",
       "       '2020 ~ 2021', '2011 ~ 2024', '2020 ~ 2023', '2014 ~ 2024',\n",
       "       '2013 ~ 2026', '2016 ~ 2022', '2010 ~ 2021', '2013 ~ 2021',\n",
       "       '2019 ~ 2025', '2018 ~ 2025', '2016 ~ 2024', '2018 ~ 2021',\n",
       "       '2009 ~ 2024', '2007 ~ 2022', 'Jun 30, 2021 On Loan',\n",
       "       '2009 ~ 2021', '2019 ~ 2021', '2019 ~ 2026', 'Free', '2012 ~ 2028',\n",
       "       '2010 ~ 2023', '2014 ~ 2021', '2015 ~ 2025', '2014 ~ 2026',\n",
       "       '2012 ~ 2025', '2017 ~ 2020', '2002 ~ 2022', '2020 ~ 2027',\n",
       "       '2013 ~ 2025', 'Dec 31, 2020 On Loan', '2019 ~ 2020',\n",
       "       '2011 ~ 2025', '2016 ~ 2020', '2007 ~ 2021', '2020 ~ 2026',\n",
       "       '2010 ~ 2025', '2009 ~ 2023', '2008 ~ 2021', '2020 ~ 2020',\n",
       "       '2016 ~ 2026', 'Jan 30, 2021 On Loan', '2012 ~ 2020',\n",
       "       '2014 ~ 2025', 'Jun 30, 2022 On Loan', '2015 ~ 2020',\n",
       "       'May 31, 2021 On Loan', '2018 ~ 2020', '2014 ~ 2020',\n",
       "       '2013 ~ 2020', '2006 ~ 2024', 'Jul 5, 2021 On Loan',\n",
       "       'Dec 31, 2021 On Loan', '2004 ~ 2025', '2011 ~ 2020',\n",
       "       'Jul 1, 2021 On Loan', 'Jan 1, 2021 On Loan', '2006 ~ 2023',\n",
       "       'Aug 31, 2021 On Loan', '2006 ~ 2021', '2005 ~ 2023',\n",
       "       '2003 ~ 2020', '2009 ~ 2020', '2002 ~ 2020', '2005 ~ 2020',\n",
       "       '2005 ~ 2022', 'Jan 31, 2021 On Loan', '2010 ~ 2020',\n",
       "       'Dec 30, 2021 On Loan', '2008 ~ 2020', '2007 ~ 2020',\n",
       "       '2003 ~ 2021', 'Jun 23, 2021 On Loan', 'Jan 3, 2021 On Loan',\n",
       "       'Nov 27, 2021 On Loan', '2002 ~ 2021', 'Jan 17, 2021 On Loan',\n",
       "       'Jun 30, 2023 On Loan', '1998 ~ 2021', '2003 ~ 2022',\n",
       "       '2007 ~ 2023', 'Jul 31, 2021 On Loan', 'Nov 22, 2020 On Loan',\n",
       "       'May 31, 2022 On Loan', '2006 ~ 2020', 'Dec 30, 2020 On Loan',\n",
       "       '2007 ~ 2025', 'Jan 4, 2021 On Loan', 'Nov 30, 2020 On Loan',\n",
       "       '2004 ~ 2020', '2009 ~ 2025', 'Aug 1, 2021 On Loan'], dtype=object)"
      ]
     },
     "execution_count": 48,
     "metadata": {},
     "output_type": "execute_result"
    }
   ],
   "source": [
    "#identify unique entries\n",
    "fifa21['Contract'].unique()"
   ]
  },
  {
   "cell_type": "markdown",
   "id": "001ca574",
   "metadata": {},
   "source": [
    "**Observation**\n",
    "- information contained in the column shows players on contract, free and on loan\n",
    "- contains to more than one information in the column thus untidy data"
   ]
  },
  {
   "cell_type": "code",
   "execution_count": 49,
   "id": "854c2905",
   "metadata": {},
   "outputs": [],
   "source": [
    "# create a new column to hold contract_type to be extracted from this column\n",
    "def c_type(y):\n",
    "    if '~' in y:\n",
    "        x = 'Contract'\n",
    "        return x\n",
    "    elif 'Loan' in y:\n",
    "        x= 'Loan'\n",
    "        return x\n",
    "    else:\n",
    "        return 'Free'"
   ]
  },
  {
   "cell_type": "code",
   "execution_count": 50,
   "id": "d97309b9",
   "metadata": {},
   "outputs": [
    {
     "data": {
      "text/plain": [
       "0        2004 ~ 2021\n",
       "1        2018 ~ 2022\n",
       "2        2014 ~ 2023\n",
       "3        2015 ~ 2023\n",
       "4        2017 ~ 2022\n",
       "            ...     \n",
       "18974    2018 ~ 2022\n",
       "18975    2020 ~ 2021\n",
       "18976    2019 ~ 2020\n",
       "18977    2020 ~ 2022\n",
       "18978    2019 ~ 2023\n",
       "Name: Agent_Type, Length: 18979, dtype: object"
      ]
     },
     "execution_count": 50,
     "metadata": {},
     "output_type": "execute_result"
    }
   ],
   "source": [
    "# I want to preserve the contract column therefore I make a duplicate column of it\n",
    "fifa21['Agent_Type'] = list(fifa21['Contract'])\n",
    "fifa21['Agent_Type']"
   ]
  },
  {
   "cell_type": "code",
   "execution_count": 51,
   "id": "cb847a19",
   "metadata": {},
   "outputs": [
    {
     "ename": "KeyError",
     "evalue": "'Contract_Type'",
     "output_type": "error",
     "traceback": [
      "\u001b[1;31m---------------------------------------------------------------------------\u001b[0m",
      "\u001b[1;31mKeyError\u001b[0m                                  Traceback (most recent call last)",
      "\u001b[1;32m~\\anaconda3\\lib\\site-packages\\pandas\\core\\indexes\\base.py\u001b[0m in \u001b[0;36mget_loc\u001b[1;34m(self, key, method, tolerance)\u001b[0m\n\u001b[0;32m   3628\u001b[0m             \u001b[1;32mtry\u001b[0m\u001b[1;33m:\u001b[0m\u001b[1;33m\u001b[0m\u001b[1;33m\u001b[0m\u001b[0m\n\u001b[1;32m-> 3629\u001b[1;33m                 \u001b[1;32mreturn\u001b[0m \u001b[0mself\u001b[0m\u001b[1;33m.\u001b[0m\u001b[0m_engine\u001b[0m\u001b[1;33m.\u001b[0m\u001b[0mget_loc\u001b[0m\u001b[1;33m(\u001b[0m\u001b[0mcasted_key\u001b[0m\u001b[1;33m)\u001b[0m\u001b[1;33m\u001b[0m\u001b[1;33m\u001b[0m\u001b[0m\n\u001b[0m\u001b[0;32m   3630\u001b[0m             \u001b[1;32mexcept\u001b[0m \u001b[0mKeyError\u001b[0m \u001b[1;32mas\u001b[0m \u001b[0merr\u001b[0m\u001b[1;33m:\u001b[0m\u001b[1;33m\u001b[0m\u001b[1;33m\u001b[0m\u001b[0m\n",
      "\u001b[1;32m~\\anaconda3\\lib\\site-packages\\pandas\\_libs\\index.pyx\u001b[0m in \u001b[0;36mpandas._libs.index.IndexEngine.get_loc\u001b[1;34m()\u001b[0m\n",
      "\u001b[1;32m~\\anaconda3\\lib\\site-packages\\pandas\\_libs\\index.pyx\u001b[0m in \u001b[0;36mpandas._libs.index.IndexEngine.get_loc\u001b[1;34m()\u001b[0m\n",
      "\u001b[1;32mpandas\\_libs\\hashtable_class_helper.pxi\u001b[0m in \u001b[0;36mpandas._libs.hashtable.PyObjectHashTable.get_item\u001b[1;34m()\u001b[0m\n",
      "\u001b[1;32mpandas\\_libs\\hashtable_class_helper.pxi\u001b[0m in \u001b[0;36mpandas._libs.hashtable.PyObjectHashTable.get_item\u001b[1;34m()\u001b[0m\n",
      "\u001b[1;31mKeyError\u001b[0m: 'Contract_Type'",
      "\nThe above exception was the direct cause of the following exception:\n",
      "\u001b[1;31mKeyError\u001b[0m                                  Traceback (most recent call last)",
      "\u001b[1;32m~\\AppData\\Local\\Temp\\ipykernel_22100\\3149968530.py\u001b[0m in \u001b[0;36m<module>\u001b[1;34m\u001b[0m\n\u001b[0;32m      1\u001b[0m \u001b[1;31m#apply function\u001b[0m\u001b[1;33m\u001b[0m\u001b[1;33m\u001b[0m\u001b[0m\n\u001b[1;32m----> 2\u001b[1;33m \u001b[0mfifa21\u001b[0m\u001b[1;33m[\u001b[0m\u001b[1;34m'Agent_Type'\u001b[0m\u001b[1;33m]\u001b[0m \u001b[1;33m=\u001b[0m \u001b[0mfifa21\u001b[0m\u001b[1;33m[\u001b[0m\u001b[1;34m'Contract_Type'\u001b[0m\u001b[1;33m]\u001b[0m\u001b[1;33m.\u001b[0m\u001b[0mapply\u001b[0m\u001b[1;33m(\u001b[0m\u001b[0mc_type\u001b[0m\u001b[1;33m)\u001b[0m\u001b[1;33m\u001b[0m\u001b[1;33m\u001b[0m\u001b[0m\n\u001b[0m",
      "\u001b[1;32m~\\anaconda3\\lib\\site-packages\\pandas\\core\\frame.py\u001b[0m in \u001b[0;36m__getitem__\u001b[1;34m(self, key)\u001b[0m\n\u001b[0;32m   3503\u001b[0m             \u001b[1;32mif\u001b[0m \u001b[0mself\u001b[0m\u001b[1;33m.\u001b[0m\u001b[0mcolumns\u001b[0m\u001b[1;33m.\u001b[0m\u001b[0mnlevels\u001b[0m \u001b[1;33m>\u001b[0m \u001b[1;36m1\u001b[0m\u001b[1;33m:\u001b[0m\u001b[1;33m\u001b[0m\u001b[1;33m\u001b[0m\u001b[0m\n\u001b[0;32m   3504\u001b[0m                 \u001b[1;32mreturn\u001b[0m \u001b[0mself\u001b[0m\u001b[1;33m.\u001b[0m\u001b[0m_getitem_multilevel\u001b[0m\u001b[1;33m(\u001b[0m\u001b[0mkey\u001b[0m\u001b[1;33m)\u001b[0m\u001b[1;33m\u001b[0m\u001b[1;33m\u001b[0m\u001b[0m\n\u001b[1;32m-> 3505\u001b[1;33m             \u001b[0mindexer\u001b[0m \u001b[1;33m=\u001b[0m \u001b[0mself\u001b[0m\u001b[1;33m.\u001b[0m\u001b[0mcolumns\u001b[0m\u001b[1;33m.\u001b[0m\u001b[0mget_loc\u001b[0m\u001b[1;33m(\u001b[0m\u001b[0mkey\u001b[0m\u001b[1;33m)\u001b[0m\u001b[1;33m\u001b[0m\u001b[1;33m\u001b[0m\u001b[0m\n\u001b[0m\u001b[0;32m   3506\u001b[0m             \u001b[1;32mif\u001b[0m \u001b[0mis_integer\u001b[0m\u001b[1;33m(\u001b[0m\u001b[0mindexer\u001b[0m\u001b[1;33m)\u001b[0m\u001b[1;33m:\u001b[0m\u001b[1;33m\u001b[0m\u001b[1;33m\u001b[0m\u001b[0m\n\u001b[0;32m   3507\u001b[0m                 \u001b[0mindexer\u001b[0m \u001b[1;33m=\u001b[0m \u001b[1;33m[\u001b[0m\u001b[0mindexer\u001b[0m\u001b[1;33m]\u001b[0m\u001b[1;33m\u001b[0m\u001b[1;33m\u001b[0m\u001b[0m\n",
      "\u001b[1;32m~\\anaconda3\\lib\\site-packages\\pandas\\core\\indexes\\base.py\u001b[0m in \u001b[0;36mget_loc\u001b[1;34m(self, key, method, tolerance)\u001b[0m\n\u001b[0;32m   3629\u001b[0m                 \u001b[1;32mreturn\u001b[0m \u001b[0mself\u001b[0m\u001b[1;33m.\u001b[0m\u001b[0m_engine\u001b[0m\u001b[1;33m.\u001b[0m\u001b[0mget_loc\u001b[0m\u001b[1;33m(\u001b[0m\u001b[0mcasted_key\u001b[0m\u001b[1;33m)\u001b[0m\u001b[1;33m\u001b[0m\u001b[1;33m\u001b[0m\u001b[0m\n\u001b[0;32m   3630\u001b[0m             \u001b[1;32mexcept\u001b[0m \u001b[0mKeyError\u001b[0m \u001b[1;32mas\u001b[0m \u001b[0merr\u001b[0m\u001b[1;33m:\u001b[0m\u001b[1;33m\u001b[0m\u001b[1;33m\u001b[0m\u001b[0m\n\u001b[1;32m-> 3631\u001b[1;33m                 \u001b[1;32mraise\u001b[0m \u001b[0mKeyError\u001b[0m\u001b[1;33m(\u001b[0m\u001b[0mkey\u001b[0m\u001b[1;33m)\u001b[0m \u001b[1;32mfrom\u001b[0m \u001b[0merr\u001b[0m\u001b[1;33m\u001b[0m\u001b[1;33m\u001b[0m\u001b[0m\n\u001b[0m\u001b[0;32m   3632\u001b[0m             \u001b[1;32mexcept\u001b[0m \u001b[0mTypeError\u001b[0m\u001b[1;33m:\u001b[0m\u001b[1;33m\u001b[0m\u001b[1;33m\u001b[0m\u001b[0m\n\u001b[0;32m   3633\u001b[0m                 \u001b[1;31m# If we have a listlike key, _check_indexing_error will raise\u001b[0m\u001b[1;33m\u001b[0m\u001b[1;33m\u001b[0m\u001b[0m\n",
      "\u001b[1;31mKeyError\u001b[0m: 'Contract_Type'"
     ]
    }
   ],
   "source": [
    "#apply function\n",
    "fifa21['Agent_Type'] = fifa21['Contract_Type'].apply(c_type)"
   ]
  },
  {
   "cell_type": "code",
   "execution_count": null,
   "id": "df9c8694",
   "metadata": {},
   "outputs": [],
   "source": [
    "#Test\n",
    "fifa21['Agent_Type'].unique()"
   ]
  },
  {
   "cell_type": "code",
   "execution_count": null,
   "id": "468a78f4",
   "metadata": {},
   "outputs": [],
   "source": [
    "# split the contract column into contract_start and contract_end\n",
    "# seperate the dataframe by the diff delimeters in Contract column\n",
    "\n",
    "c1 = fifa21[fifa21.Contract.str.contains(',')] #holds info of players on loan\n",
    "c2 = fifa21[fifa21.Contract.str.contains('~')] #holds info of players on contract"
   ]
  },
  {
   "cell_type": "code",
   "execution_count": null,
   "id": "6b2d82a9",
   "metadata": {},
   "outputs": [],
   "source": [
    "c1['Contract'] = c1['Contract'].apply(lambda x: x.split(',')[1]) #splits the Contract column by , and retain the output after delimeter\n",
    "start_1 = list(c1['Contract'].apply(lambda x: x.split(' ')[1]))#splits output by whitespace to retain year \n",
    "start= list (c2['Contract'].apply(lambda x: x.split('~')[0])) #splits c2 contract column by ~ and puts value before delimeter in a list \n",
    "end = list (c2['Contract'].apply(lambda x: x.split('~')[1])) #splits c2 contract column by ~ and puts value after delimeter in a list\n",
    "c1['Contract_Start'] = start_1\n",
    "c2['Contract_Start'] = start\n",
    "c2['Contract_End'] = end"
   ]
  },
  {
   "cell_type": "code",
   "execution_count": null,
   "id": "ec57f232",
   "metadata": {},
   "outputs": [],
   "source": [
    "#test\n",
    "c2.head()"
   ]
  },
  {
   "cell_type": "code",
   "execution_count": null,
   "id": "1f702c3e",
   "metadata": {},
   "outputs": [],
   "source": [
    "fifa21.query('ID == 173731')"
   ]
  },
  {
   "cell_type": "code",
   "execution_count": null,
   "id": "a3a63116",
   "metadata": {},
   "outputs": [],
   "source": [
    "#drop Contract column\n",
    "c1 = c1.drop(columns = 'Contract')\n",
    "c2 = c2.drop(columns = 'Contract')"
   ]
  },
  {
   "cell_type": "code",
   "execution_count": null,
   "id": "f59879bb",
   "metadata": {},
   "outputs": [],
   "source": [
    "#drop c1 and c2 rows in fifa21 \n",
    "fifa21 = fifa21.drop(c1.index)\n",
    "fifa21 = fifa21.drop(c2.index)"
   ]
  },
  {
   "cell_type": "code",
   "execution_count": null,
   "id": "e8cd89da",
   "metadata": {},
   "outputs": [],
   "source": [
    "# join the dataframes together and arrange\n",
    "new = pd.concat([c1,c2], axis = 0)\n",
    "fifa21 = pd.concat([fifa21, new], axis = 0)\n",
    "fifa21 = fifa21.sort_index(axis = 0) #arranges rows by index number in ascending order\n",
    "fifa21.head()"
   ]
  },
  {
   "cell_type": "code",
   "execution_count": null,
   "id": "41653c06",
   "metadata": {},
   "outputs": [],
   "source": [
    "fifa21.Contract.unique()"
   ]
  },
  {
   "cell_type": "markdown",
   "id": "e06d8cff",
   "metadata": {},
   "source": [
    "**Observation**\n",
    "- Contains only free agents. since this has been noted in Agent_type, i will drop this column\n"
   ]
  },
  {
   "cell_type": "code",
   "execution_count": null,
   "id": "10ed5732",
   "metadata": {},
   "outputs": [],
   "source": [
    "fifa21 = fifa21.drop(columns= ['Contract'])"
   ]
  },
  {
   "cell_type": "markdown",
   "id": "18b6db65",
   "metadata": {},
   "source": [
    "### RE-visit Loan_Date_End Column"
   ]
  },
  {
   "cell_type": "code",
   "execution_count": null,
   "id": "df471c6a",
   "metadata": {},
   "outputs": [],
   "source": [
    "fifa21['Loan_Date_End'].unique()"
   ]
  },
  {
   "cell_type": "markdown",
   "id": "1f3a8da2",
   "metadata": {},
   "source": [
    "**Observation**\n",
    "- It contains date on which loan terminates. I would like to extract the year to Contract_end and drop the Column"
   ]
  },
  {
   "cell_type": "code",
   "execution_count": null,
   "id": "c99e3552",
   "metadata": {},
   "outputs": [],
   "source": [
    "fifa21['Loan_Date_End'] = fifa21.Loan_Date_End.astype('str')\n",
    "y = fifa21[fifa21.Loan_Date_End.str.contains(',')]\n",
    "x = list(y['Loan_Date_End'].apply(lambda x: x.split(',')[1]))\n",
    "y['Contract_End'] = x"
   ]
  },
  {
   "cell_type": "code",
   "execution_count": null,
   "id": "00f5e4aa",
   "metadata": {},
   "outputs": [],
   "source": [
    "# Test\n",
    "y.head()"
   ]
  },
  {
   "cell_type": "code",
   "execution_count": null,
   "id": "efe80b6b",
   "metadata": {},
   "outputs": [],
   "source": [
    "# drop loan_date_end, it's index from fifa21 and concatnate\n",
    "y = y.drop(columns= ['Loan_Date_End'])\n",
    "fifa21 = fifa21.drop(y.index)\n",
    "fifa21 = pd.concat([fifa21, y], axis = 0)\n",
    "fifa21 = fifa21.sort_index(axis = 0) #arranges rows by index number in ascending order"
   ]
  },
  {
   "cell_type": "code",
   "execution_count": null,
   "id": "c5b31bbc",
   "metadata": {},
   "outputs": [],
   "source": [
    "#Test\n",
    "fifa21.query('Agent_Type == \"Loan\"')"
   ]
  },
  {
   "cell_type": "code",
   "execution_count": null,
   "id": "a75269cb",
   "metadata": {},
   "outputs": [],
   "source": [
    "fifa21['Loan_Date_End'].unique()"
   ]
  },
  {
   "cell_type": "code",
   "execution_count": null,
   "id": "c4401e47",
   "metadata": {},
   "outputs": [],
   "source": [
    "#drop Loan_Date_End column\n",
    "fifa21 = fifa21.drop(columns = ['Loan_Date_End'])\n",
    "fifa21.columns"
   ]
  },
  {
   "cell_type": "markdown",
   "id": "b17ae6a8",
   "metadata": {},
   "source": [
    "## Name, Long_Name and Player_Url column"
   ]
  },
  {
   "cell_type": "code",
   "execution_count": null,
   "id": "7b2d2f0a",
   "metadata": {},
   "outputs": [],
   "source": [
    "fifa21.Name.loc[17]"
   ]
  },
  {
   "cell_type": "code",
   "execution_count": null,
   "id": "1d3d8921",
   "metadata": {},
   "outputs": [],
   "source": [
    "fifa21.Long_Name.loc[17]"
   ]
  },
  {
   "cell_type": "code",
   "execution_count": null,
   "id": "3fa97edf",
   "metadata": {},
   "outputs": [],
   "source": [
    "fifa21.Player_Url.loc[17]"
   ]
  },
  {
   "cell_type": "markdown",
   "id": "3c439406",
   "metadata": {},
   "source": [
    "**Observation**\n",
    "- some names have non-english characters on them however, the players names spelt in english is also in the player_url\n",
    "\n",
    "*Plan*\n",
    "- extract full name from url\n",
    "- drop name column"
   ]
  },
  {
   "cell_type": "code",
   "execution_count": null,
   "id": "88462772",
   "metadata": {},
   "outputs": [],
   "source": [
    "player = list(fifa21['Player_Url'].apply(lambda x: x.split('/')[-3].replace('-', ' ').title()))\n",
    "fifa21['Long_Name'] = player"
   ]
  },
  {
   "cell_type": "code",
   "execution_count": null,
   "id": "54017cc7",
   "metadata": {},
   "outputs": [],
   "source": [
    "fifa21.Long_Name.loc[17]"
   ]
  },
  {
   "cell_type": "code",
   "execution_count": null,
   "id": "8b8b1efe",
   "metadata": {},
   "outputs": [],
   "source": [
    "#drop name column. \n",
    "fifa21 = fifa21.drop(columns = ['Name'])"
   ]
  },
  {
   "cell_type": "markdown",
   "id": "5a029195",
   "metadata": {},
   "source": [
    "### More observations"
   ]
  },
  {
   "cell_type": "code",
   "execution_count": null,
   "id": "2353b5c5",
   "metadata": {},
   "outputs": [],
   "source": [
    "fifa21.head()"
   ]
  },
  {
   "cell_type": "code",
   "execution_count": null,
   "id": "0c4036f3",
   "metadata": {},
   "outputs": [],
   "source": [
    "fifa21.duplicated().sum()"
   ]
  },
  {
   "cell_type": "markdown",
   "id": "9aafdcd2",
   "metadata": {},
   "source": [
    "There are no duplicates in the data"
   ]
  },
  {
   "cell_type": "code",
   "execution_count": null,
   "id": "db673177",
   "metadata": {},
   "outputs": [],
   "source": [
    "fifa21.isnull().sum()"
   ]
  },
  {
   "cell_type": "markdown",
   "id": "9e1404d7",
   "metadata": {},
   "source": [
    "Contract_Start and End has missing values, that would be for free agents therefore fill na with 0"
   ]
  },
  {
   "cell_type": "code",
   "execution_count": null,
   "id": "9ab6d044",
   "metadata": {},
   "outputs": [],
   "source": [
    "fifa21 = fifa21.fillna('0')\n",
    "fifa21.isnull().sum()"
   ]
  },
  {
   "cell_type": "code",
   "execution_count": null,
   "id": "e04cbeb1",
   "metadata": {},
   "outputs": [],
   "source": [
    "fifa21.info()"
   ]
  },
  {
   "cell_type": "markdown",
   "id": "feb79ec2",
   "metadata": {},
   "source": [
    "**Observation**\n",
    "- ID and Joined has wrong datatypes"
   ]
  },
  {
   "cell_type": "code",
   "execution_count": null,
   "id": "0be61e3c",
   "metadata": {},
   "outputs": [],
   "source": [
    "#correct datatype\n",
    "fifa21['ID'] = fifa21.ID.astype('str')\n",
    "fifa21['Joined'] = pd.to_datetime(fifa21['Joined'])"
   ]
  },
  {
   "cell_type": "code",
   "execution_count": null,
   "id": "497f54ba",
   "metadata": {},
   "outputs": [],
   "source": [
    "#test\n",
    "print(fifa21['ID'].dtype)\n",
    "print(fifa21['Joined'].dtype)"
   ]
  },
  {
   "cell_type": "markdown",
   "id": "1de695b9",
   "metadata": {},
   "source": [
    "## Save Cleaned Data"
   ]
  },
  {
   "cell_type": "code",
   "execution_count": null,
   "id": "fa4e85e3",
   "metadata": {},
   "outputs": [],
   "source": [
    "fifa21.to_csv('Clean_data.csv', index = False)"
   ]
  },
  {
   "cell_type": "code",
   "execution_count": null,
   "id": "ef68fffa",
   "metadata": {},
   "outputs": [],
   "source": []
  }
 ],
 "metadata": {
  "kernelspec": {
   "display_name": "Python 3 (ipykernel)",
   "language": "python",
   "name": "python3"
  },
  "language_info": {
   "codemirror_mode": {
    "name": "ipython",
    "version": 3
   },
   "file_extension": ".py",
   "mimetype": "text/x-python",
   "name": "python",
   "nbconvert_exporter": "python",
   "pygments_lexer": "ipython3",
   "version": "3.9.13"
  }
 },
 "nbformat": 4,
 "nbformat_minor": 5
}
